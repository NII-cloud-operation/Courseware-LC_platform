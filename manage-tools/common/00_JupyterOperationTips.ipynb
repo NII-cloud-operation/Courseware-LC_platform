{
 "cells": [
  {
   "cell_type": "markdown",
   "metadata": {},
   "source": [
    "# Jupyterの画面操作Tips\n",
    "---"
   ]
  },
  {
   "cell_type": "markdown",
   "metadata": {},
   "source": [
    "ここでは、Jupyterの主な画面操作を簡単に説明します。"
   ]
  },
  {
   "cell_type": "markdown",
   "metadata": {},
   "source": []
  },
  {
   "cell_type": "markdown",
   "metadata": {},
   "source": [
    "### フォルダを作成する<a name=\"folder\" />\n",
    "1. 画面右上のプルダウンメニュー [New] から [Folder] をクリックします。「Untitled Folder」が作成されます。\n",
    "2. 「Untitled Folder」先頭のチェックボックスをクリックします。\n",
    "3. 画面上部の [Rename] ボタンをクリックします。「Rename directory」ダイアログが表示されるので、適当な名称に変更して下さい。"
   ]
  },
  {
   "cell_type": "markdown",
   "metadata": {},
   "source": [
    "### notebookを作成する<a name=\"create_notebook\" />\n",
    "\n",
    "1. 利用する Kernel を決めます。Bash、Python2、Python3から選択します。\n",
    "2. 画面右上のプルダウンメニュー [New] から選択したKernelをクリックします。「Untitled.ipynb」が表示されます。"
   ]
  },
  {
   "cell_type": "markdown",
   "metadata": {},
   "source": [
    "### notebookを保存する<a name=\"save_notebook\" />"
   ]
  },
  {
   "cell_type": "markdown",
   "metadata": {},
   "source": [
    "### notebookの名前を変更する<a name=\"rename_notebook\" />\n",
    "1. 名前を変更するnotebookが表示されている場合は、notebookを保存してブラウザのタブを閉じます。\n",
    "2. JupyterのFilesタブ画面へ移動します。\n",
    "3. 名前を変更するnotebooke先頭のチェックボックスをクリックします。\n",
    "4. 画面上部の [Shutdown] ボタンをクリックします。Kernelが終了します。\n",
    "5. [Shutdown] ボタンが [Rename] ボタンに変わるので、これをクリックします。\n",
    "6. 「Rename directory」ダイアログが表示されるので、適当な名称に変更して下さい。"
   ]
  },
  {
   "cell_type": "markdown",
   "metadata": {},
   "source": []
  },
  {
   "cell_type": "markdown",
   "metadata": {},
   "source": [
    "### テキストファイルを作成する<a name=\"textfile\" />\n",
    "1. JupyterのFilesタブ画面を表示します。\n",
    "2. 画面右上のプルダウンメニュー [New] から [Text File] を選択します。編集画面が表示されます。\n",
    "3. ファイルを保存するには、画面上の [Files] メニューから [Save] をクリックします。"
   ]
  },
  {
   "cell_type": "markdown",
   "metadata": {},
   "source": [
    "### ファイルをアップロードする<a name=\"upload\" />\n",
    "1. JupyterのFilesタブ画面を表示します。\n",
    "2. 教材に含めたいファイルをドラッグ&ドロップします。\n",
    "3. ブラウザの画面右上の[Upload]ボタンをクリックします。"
   ]
  },
  {
   "cell_type": "markdown",
   "metadata": {},
   "source": []
  }
 ],
 "metadata": {
  "kernelspec": {
   "display_name": "Bash",
   "language": "bash",
   "name": "bash"
  },
  "language_info": {
   "codemirror_mode": "shell",
   "file_extension": ".sh",
   "mimetype": "text/x-sh",
   "name": "bash"
  }
 },
 "nbformat": 4,
 "nbformat_minor": 0
}
