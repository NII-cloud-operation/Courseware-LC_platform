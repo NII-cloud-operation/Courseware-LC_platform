{
 "cells": [
  {
   "cell_type": "markdown",
   "metadata": {},
   "source": [
    "# Jupyterの画面操作Tips\n",
    "---"
   ]
  },
  {
   "cell_type": "markdown",
   "metadata": {},
   "source": [
    "ここでは、Jupyterの主な画面操作を簡単に説明します。<br/>\n",
    "Jupyterの概要については、[こちら](./01_JupyterOverview.ipynb)をご覧下さい。"
   ]
  },
  {
   "cell_type": "markdown",
   "metadata": {},
   "source": [
    "## 1. notebookの操作"
   ]
  },
  {
   "cell_type": "markdown",
   "metadata": {},
   "source": [
    "### notebookを作成する<a name=\"create_notebook\" />\n",
    "---\n",
    "1. 利用する Kernel を決めます。Bash、Python2、Python3から選択します。\n",
    "2. ダッシュボード画面右上のプルダウンメニュー [New] から選択したKernelをクリックします。「Untitled.ipynb」が表示されます。"
   ]
  },
  {
   "cell_type": "markdown",
   "metadata": {},
   "source": [
    "### notebookを保存する<a name=\"save_notebook\" />\n",
    "---\n",
    "２つの方法があります。\n",
    "* notebook画面上部の　[ディスク] アイコン をクリックします。\n",
    "* notebook画面上部のメニューから [File][Save and Checkpoint] をクリックします。"
   ]
  },
  {
   "cell_type": "markdown",
   "metadata": {},
   "source": [
    "### notebookの名前を変更する<a name=\"rename_notebook\" />\n",
    "---\n",
    "1. 名前を変更するnotebookが表示されている場合は、notebookを保存してブラウザのタブを閉じます。\n",
    "2. Jupyterのダッシュボード画面でFilesタブへ移動します。\n",
    "3. 名前を変更するnotebooke先頭のチェックボックスをクリックします。\n",
    "4. 画面上部の [Shutdown] ボタンをクリックします。Kernelが終了します。\n",
    "5. [Shutdown] ボタンが [Rename] ボタンに変わるので、これをクリックします。\n",
    "6. 「Rename directory」ダイアログが表示されるので、適当な名称に変更して下さい。"
   ]
  },
  {
   "cell_type": "markdown",
   "metadata": {},
   "source": [
    "### セルを実行する\n",
    "---\n",
    "notebookでコードを記述したセルは、その場で実行でき、実行結果はセルの直下に出力されます。<br/>\n",
    "セルの実行には次の２つの方法があります。\n",
    "* セルを選択して、キーボードから ctrl+Enter を入力する。\n",
    "* notebook画面上のメニュー [Cell] から [Run Cells] を選択する。\n",
    "  + [Cell] メニューには、全セルを実行する、選択しているセルの後を全部実行する、などの機能が用意されています。"
   ]
  },
  {
   "cell_type": "markdown",
   "metadata": {},
   "source": [
    "## 2. その他のファイルの操作"
   ]
  },
  {
   "cell_type": "markdown",
   "metadata": {},
   "source": [
    "### テキストファイルを作成する<a name=\"textfile\" />\n",
    "---\n",
    "1. Jupyterのダッシュボード画面でFilesタブを表示します。\n",
    "2. 画面右上のプルダウンメニュー [New] から [Text File] を選択します。編集画面が表示されます。\n",
    "3. ファイルを保存するには、画面上の [Files] メニューから [Save] を選択します。"
   ]
  },
  {
   "cell_type": "markdown",
   "metadata": {},
   "source": [
    "### ファイルをアップロードする<a name=\"upload\" />\n",
    "---\n",
    "1. Jupyterのダッシュボード画面でFilesタブを表示します。\n",
    "2. 教材に含めたいファイルをドラッグ&ドロップします。\n",
    "3. 画面右上の[Upload]ボタンをクリックします。"
   ]
  },
  {
   "cell_type": "markdown",
   "metadata": {},
   "source": [
    "## 3. フォルダの操作"
   ]
  },
  {
   "cell_type": "markdown",
   "metadata": {},
   "source": [
    "### フォルダを作成する<a name=\"folder\" />\n",
    "---\n",
    "1. Jupyterのダッシュボード画面でFilesタブを表示します。\n",
    "2. 画面右上のプルダウンメニュー [New] から [Folder] をクリックします。「Untitled Folder」が作成されます。\n",
    "3. 「Untitled Folder」先頭のチェックボックスをクリックします。\n",
    "4. 画面上部の [Rename] ボタンをクリックします。「Rename directory」ダイアログが表示されるので、適当な名称に変更して下さい。"
   ]
  },
  {
   "cell_type": "markdown",
   "metadata": {},
   "source": [
    "## 4. ターミナルを利用する<a name=\"terminal\" />\n"
   ]
  },
  {
   "cell_type": "markdown",
   "metadata": {},
   "source": [
    "### ターミナルを開く<a name=\"terminal_open\" />\n",
    "---\n",
    "1. Jupyterのダッシュボード画面でFilesタブを表示します。\n",
    "2. 画面右上のプルダウンメニュー [New] から [Terminal] を選択します。ターミナル画面が表示されます。"
   ]
  },
  {
   "cell_type": "markdown",
   "metadata": {},
   "source": [
    "### ターミナルを閉じる<a name=\"terminal_close\" />\n",
    "---\n",
    "1. 閉じるターミナルのURLの最後尾にある番号を記録しておきます。\n",
    "2. ターミナルを表示しているWebブラウザ画面（またはタブ）を閉じます。\n",
    "2. Jupyterのダッシュボード画面でRunningタブを表示します。\n",
    "3. Terminals欄で、記録しておいた番号のターミナルの [Shutdown] ボタンをクリックします。"
   ]
  }
 ],
 "metadata": {
  "kernelspec": {
   "display_name": "Bash",
   "language": "bash",
   "name": "bash"
  },
  "language_info": {
   "codemirror_mode": "shell",
   "file_extension": ".sh",
   "mimetype": "text/x-sh",
   "name": "bash"
  }
 },
 "nbformat": 4,
 "nbformat_minor": 0
}
