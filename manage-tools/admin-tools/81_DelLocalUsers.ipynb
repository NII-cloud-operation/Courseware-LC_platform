{
 "cells": [
  {
   "cell_type": "markdown",
   "metadata": {
    "deletable": true,
    "editable": true
   },
   "source": [
    "# ローカルユーザの削除"
   ]
  },
  {
   "cell_type": "markdown",
   "metadata": {
    "deletable": true,
    "editable": true
   },
   "source": [
    "ローカルユーザを削除します。<br/>\n",
    "\n",
    "次のセルで、下記のように削除するユーザのメールアドレスを配列「users」に設定して、セルを実行して下さい。\n",
    "```\n",
    "users=(\n",
    "user01@ecloud.nii.ac.jp\n",
    "user02@ecloud.nii.ac.jp\n",
    "user03@ecloud.nii.ac.jp\n",
    ")\n",
    "```"
   ]
  },
  {
   "cell_type": "code",
   "execution_count": null,
   "metadata": {
    "collapsed": false,
    "deletable": true,
    "editable": true
   },
   "outputs": [],
   "source": [
    "./ssh-auth-proxy << 'EOF'\n",
    "# 次のusersに、削除するユーザのメールアドレスを設定して下さい\n",
    "users=(\n",
    ")\n",
    "#\n",
    "\n",
    "for mail in ${users[@]}\n",
    "do\n",
    "    php /var/www/php/del-local-user.php $mail\n",
    "done \n",
    "EOF"
   ]
  }
 ],
 "metadata": {
  "kernelspec": {
   "display_name": "Bash",
   "language": "bash",
   "name": "bash"
  },
  "language_info": {
   "codemirror_mode": "shell",
   "file_extension": ".sh",
   "mimetype": "text/x-sh",
   "name": "bash"
  }
 },
 "nbformat": 4,
 "nbformat_minor": 2
}
