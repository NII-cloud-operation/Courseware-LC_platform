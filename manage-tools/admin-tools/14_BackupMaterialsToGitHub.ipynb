{
 "cells": [
  {
   "cell_type": "markdown",
   "metadata": {},
   "source": [
    "# 作成した教材をGitHubへバックアップします\n",
    "<HR>"
   ]
  },
  {
   "cell_type": "markdown",
   "metadata": {},
   "source": [
    "ホームディレクトリで作成した教材をGitHubリポジトリへバックアップします。"
   ]
  },
  {
   "cell_type": "markdown",
   "metadata": {},
   "source": [
    "### 1. バックアップ用GitHubリポジトリの準備"
   ]
  },
  {
   "cell_type": "markdown",
   "metadata": {},
   "source": [
    "* 既にバックアップ用GitHubリポジトリが作成済みの場合は、この項を読み飛ばして結構です。\n",
    "* 初めて教材をGitHubリポジトリへバックアップする場合は、[GitHubリポジトリの準備](03_PrepareGitHub.ipynb) Notebookの「1. GitHubで新しいリポジトリを作成\n",
    "」にしたがって、バックアップ用のGitHubリポジトリを作成して下さい。"
   ]
  },
  {
   "cell_type": "markdown",
   "metadata": {},
   "source": [
    "### 2. GitHubリポジトリへの接続情報を設定します"
   ]
  },
  {
   "cell_type": "markdown",
   "metadata": {},
   "source": [
    "* バックアップ先のGitHubリポジトリへの接続情報を設定します。\n",
    "* [GitHubリポジトリの準備](03_PrepareGitHub.ipynb) Notebookの「2. GitHubリポジトリ接続情報の設定」を使って、バックアップ用のGitHubリポジトリの接続情報を設定して下さい。"
   ]
  },
  {
   "cell_type": "markdown",
   "metadata": {},
   "source": [
    "### 3. バックアップの準備"
   ]
  },
  {
   "cell_type": "markdown",
   "metadata": {},
   "source": [
    "このNotebookを実行すると、ホームディレクトリ直下の下記のフォルダをGitHubリポジトリに保存します。<br/>\n",
    "**バックアップしたいファイル/フォルダは、下記のフォルダに移動してください。**\n",
    "* textbook\n",
    "  + 教材Notebookおよび教材Notebookから呼び出すスクリプトなど\n",
    "* draft\n",
    "  + 教材以外で保存して置きたいNotebook、その他ファイル\n",
    "\n",
    "注） GitHubには「test」フォルダも保存されます。\n",
    "* 「test」フォルダは、この教材の自動テストに必要なファイルを保存するフォルダです。（初期状態で、テスト手順Notebookのテンプレートが配置されています）\n",
    "* **「test」フォルダにはその他のファイルを格納しないで下さい。**"
   ]
  },
  {
   "cell_type": "markdown",
   "metadata": {},
   "source": [
    "### 4. その他にバックアップしたいファイル/フォルダがある場合"
   ]
  },
  {
   "cell_type": "markdown",
   "metadata": {},
   "source": [
    "* もし、textbook, draft以外に保存したいファイルまたはフォルダがある場合は、INCLUDES にスペース区切りで列挙して下さい。\n",
    "  + textboo, draft, testフォルダは必ずバックアップに保存されます。\n",
    "  + 管理用Notebookフォルダ「admin_tools」はバックアップに保存されません\n",
    "```\n",
    "INCLUDES=\"work\"\n",
    "```\n",
    "\n",
    "**次のセルでバックアップに含めたいファイル/フォルダを指定して、セルを実行して下さい。**"
   ]
  },
  {
   "cell_type": "code",
   "execution_count": null,
   "metadata": {},
   "outputs": [],
   "source": [
    "INCLUDES=\"\""
   ]
  },
  {
   "cell_type": "markdown",
   "metadata": {},
   "source": [
    "### 5. GitHubにpushします"
   ]
  },
  {
   "cell_type": "markdown",
   "metadata": {},
   "source": [
    "* 指定したGitHub repositoryに保存します。\n",
    "\n",
    "**次のセルで、commitメッセージを設定して下さい。**"
   ]
  },
  {
   "cell_type": "code",
   "execution_count": null,
   "metadata": {},
   "outputs": [],
   "source": [
    "COMMIT_MESSAGE=\"\""
   ]
  },
  {
   "cell_type": "markdown",
   "metadata": {},
   "source": [
    "**次のセルを実行して、GitHubに保存して下さい。**"
   ]
  },
  {
   "cell_type": "code",
   "execution_count": null,
   "metadata": {},
   "outputs": [],
   "source": [
    "# check setting\n",
    "do_backup=1\n",
    "[ -z \"$GITHUB_REPO\" ]  && {\n",
    "    echo \"GITHUB_REPO is not set.\"\n",
    "    do_backup=0\n",
    "}\n",
    "if [ \"$do_backup\" -eq 1 ] && [ -z $COMMIT_MESSAGE ]; then\n",
    "    echo \"COMMIT_MESSAGE is not set.\"\n",
    "    do_backup=0\n",
    "fi\n",
    "\n",
    "if [ \"$do_backup\" -eq 1 ]; then\n",
    "    # generate .gitignore\n",
    "    cd $HOME\n",
    "    INCLUDES=\"textbook draft test \"$INCLUDES\n",
    "    includes_reg=\"\"\n",
    "    for item in $INCLUDES; do\n",
    "        includes_reg=$includes_reg\"|$item\"\n",
    "    done\n",
    "    SKIPS_REG=\"\\.$|\\.\\.$\"$includes_reg\n",
    "     : > .gitignore\n",
    "    for item in $(ls -a); do\n",
    "        [[ \"$item\" =~ $SKIPS_REG ]] && continue\n",
    "        echo $item >> .gitignore\n",
    "    done\n",
    "\n",
    "    # forcibly exclude admin-tools\n",
    "    [[ \"$INCLUDES\" =~ admin-tools ]] && {\n",
    "        echo \"admin-tools\" >> .gitignore  \n",
    "        replace_includes=\"\"\n",
    "        for item in $INCLUDES; do\n",
    "            [[ \"$item\" =~ admin-tools ]] && continue\n",
    "            replace_includes=$replace_includes\"$item \"\n",
    "        done\n",
    "        INCLUDES=$replace_includes\n",
    "    }\n",
    "    echo \"INCLUDES: \"$INCLUDES\n",
    "\n",
    "    # push to GitHub　repository\n",
    "    git add $INCLUDES\n",
    "    git commit -m \"$COMMIT_MESSAGE\"\n",
    "    git push origin master\n",
    "fi\n",
    "\n",
    "echo\n",
    "echo \"... backup finished.\""
   ]
  }
 ],
 "metadata": {
  "kernelspec": {
   "display_name": "Bash",
   "language": "bash",
   "name": "bash"
  },
  "language_info": {
   "codemirror_mode": "shell",
   "file_extension": ".sh",
   "mimetype": "text/x-sh",
   "name": "bash"
  }
 },
 "nbformat": 4,
 "nbformat_minor": 2
}
