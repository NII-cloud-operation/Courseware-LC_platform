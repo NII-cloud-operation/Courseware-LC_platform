{
 "cells": [
  {
   "cell_type": "markdown",
   "metadata": {},
   "source": [
    "# 教材をリリースする"
   ]
  },
  {
   "cell_type": "markdown",
   "metadata": {
    "collapsed": true
   },
   "source": [
    "作成した教材をリリースします。リリースした教材は、フォルダ「copybook」及び「info」で保持されます。\n",
    "\n",
    "下記のファイルがリリース対象です。\n",
    "* ホームディレクトリ直下のファイルおよびフォルダ\n",
    "* フォルダinfoに格納されているファイルおよびフォルダ"
   ]
  },
  {
   "cell_type": "code",
   "execution_count": null,
   "metadata": {
    "collapsed": false
   },
   "outputs": [],
   "source": [
    "#!/bin/bash\n",
    "\n",
    "ROOT_DIR=/jupyter\n",
    "SRC_COPYBOOK=$ROOT_DIR/admin/$USER\n",
    "SRC_INFO=$ROOT_DIR/admin/$USER/info\n",
    "DST_COPYBOOK=$ROOT_DIR/admin/copybook\n",
    "DST_INFO=$ROOT_DIR/admin/info\n",
    "\n",
    "rsync -rltuvO --exclude='admin_tools' --exclude='info/' --exclude='.*' --delete $SRC_COPYBOOK/ $DST_COPYBOOK\n",
    "rsync -rltuvO --delete $SRC_INFO/ $DST_INFO"
   ]
  }
 ],
 "metadata": {
  "kernelspec": {
   "display_name": "Bash",
   "language": "bash",
   "name": "bash"
  },
  "language_info": {
   "codemirror_mode": "shell",
   "file_extension": ".sh",
   "mimetype": "text/x-sh",
   "name": "bash"
  }
 },
 "nbformat": 4,
 "nbformat_minor": 0
}
