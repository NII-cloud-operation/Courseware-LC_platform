{
 "cells": [
  {
   "cell_type": "markdown",
   "metadata": {},
   "source": [
    "# notebookと関連情報をリリースする"
   ]
  },
  {
   "cell_type": "markdown",
   "metadata": {
    "collapsed": true
   },
   "source": [
    "作成したnotebookと演習に必要な関連情報をリリースします。リリースしたnotebookと関連情報は、各学生に配布することができます。\n",
    "\n",
    "下記のファイルがリリース対象です。\n",
    "* ホームディレクトリ直下のnotebookファイル(.ipynbファイル）\n",
    "* infoディレクトリに格納されているファイル"
   ]
  },
  {
   "cell_type": "code",
   "execution_count": null,
   "metadata": {
    "collapsed": false
   },
   "outputs": [],
   "source": [
    "#!/bin/bash\n",
    "\n",
    "ROOT_DIR=/jupyter\n",
    "SRC_COPYBOOK=$ROOT_DIR/admin/$USER\n",
    "SRC_INFO=$ROOT_DIR/admin/$USER/info\n",
    "DST_COPYBOOK=$ROOT_DIR/admin/copybook\n",
    "DST_INFO=$ROOT_DIR/admin/info\n",
    "\n",
    "rsync -rltuvO --delete --include='*.ipynb' --exclude='*' $SRC_COPYBOOK/ $DST_COPYBOOK\n",
    "rsync -rltuvO --delete $SRC_INFO/ $DST_INFO"
   ]
  }
 ],
 "metadata": {
  "kernelspec": {
   "display_name": "Bash",
   "language": "bash",
   "name": "bash"
  },
  "language_info": {
   "codemirror_mode": "shell",
   "file_extension": ".sh",
   "mimetype": "text/x-sh",
   "name": "bash"
  }
 },
 "nbformat": 4,
 "nbformat_minor": 0
}
