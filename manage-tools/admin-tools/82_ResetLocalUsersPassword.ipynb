{
 "cells": [
  {
   "cell_type": "markdown",
   "metadata": {
    "deletable": true,
    "editable": true
   },
   "source": [
    "# ローカルユーザのパスワードリセット"
   ]
  },
  {
   "cell_type": "markdown",
   "metadata": {
    "deletable": true,
    "editable": true
   },
   "source": [
    "ローカルユーザのパスワードをリセットします。<br/>\n",
    "\n",
    "次のセルで、下記のようにパスワードをリセットするユーザのメールアドレスを「user」に設定して、セルを実行して下さい。\n",
    "```\n",
    "user=user01@ecloud.nii.ac.jp\n",
    "```\n",
    "**ユーザのメールアドレスとリセット後のパスワードが出力されますので、必ず、記録して下さい。**"
   ]
  },
  {
   "cell_type": "code",
   "execution_count": null,
   "metadata": {
    "collapsed": false,
    "deletable": true,
    "editable": true
   },
   "outputs": [],
   "source": [
    "./ssh-auth-proxy << 'EOF'\n",
    "# 次のuserに、パスワードをリセットするユーザのメールアドレスを設定して下さい\n",
    "user=\n",
    "#\n",
    "\n",
    "php /var/www/php/reset-local-user-password.php $user\n",
    "EOF"
   ]
  }
 ],
 "metadata": {
  "kernelspec": {
   "display_name": "Bash",
   "language": "bash",
   "name": "bash"
  },
  "language_info": {
   "codemirror_mode": "shell",
   "file_extension": ".sh",
   "mimetype": "text/x-sh",
   "name": "bash"
  }
 },
 "nbformat": 4,
 "nbformat_minor": 2
}
