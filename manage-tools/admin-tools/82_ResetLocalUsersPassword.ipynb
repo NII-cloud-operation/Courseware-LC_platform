{
 "cells": [
  {
   "cell_type": "markdown",
   "metadata": {},
   "source": [
    "# ローカルユーザのパスワードをリセットします\n",
    "<HR>"
   ]
  },
  {
   "cell_type": "markdown",
   "metadata": {},
   "source": [
    "ローカルユーザがパスワードを忘れてしまったなどの場合、利用します。<br/>\n",
    "\n",
    "次のセルで、下記のようにパスワードをリセットするユーザのメールアドレスを「user」に設定して、セルを実行して下さい。\n",
    "```\n",
    "user=user01@ecloud.nii.ac.jp\n",
    "```\n",
    "**ユーザのメールアドレスとリセット後のパスワードが出力されますので、必ず、記録して下さい。**"
   ]
  },
  {
   "cell_type": "code",
   "execution_count": null,
   "metadata": {
    "collapsed": true
   },
   "outputs": [],
   "source": [
    "./ssh-auth-proxy << 'EOF'\n",
    "# 次のuserに、パスワードをリセットするユーザのメールアドレスを設定して下さい\n",
    "user=\n",
    "#\n",
    "\n",
    "php /var/www/php/reset-local-user-password.php $user\n",
    "EOF"
   ]
  }
 ],
 "metadata": {
  "kernelspec": {
   "display_name": "Bash",
   "language": "bash",
   "name": "bash"
  },
  "language_info": {
   "codemirror_mode": "shell",
   "file_extension": ".sh",
   "mimetype": "text/x-sh",
   "name": "bash"
  }
 },
 "nbformat": 4,
 "nbformat_minor": 2
}
