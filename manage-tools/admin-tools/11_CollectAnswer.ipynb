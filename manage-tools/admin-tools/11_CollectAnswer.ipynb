{
 "cells": [
  {
   "cell_type": "markdown",
   "metadata": {},
   "source": [
    "# 課題の回答を回収します\n",
    "<HR>"
   ]
  },
  {
   "cell_type": "markdown",
   "metadata": {},
   "source": [
    "課題の回答を記述したnotebookなどの回答ファイルを回収します。\n",
    "* 回収したフィアルは、tar.gzファイルにアーカイブして、指定されたフォルダに格納します。\n",
    "* notebookファイルは、HTLMファイルに変換して同梱します。"
   ]
  },
  {
   "cell_type": "markdown",
   "metadata": {},
   "source": [
    "## 1. 回収対象ユーザのメールアドレスを指定します"
   ]
  },
  {
   "cell_type": "markdown",
   "metadata": {},
   "source": [
    "リスト`STUDENS`に、回答の回収対象ユーザのメールアドレスを列挙します。\n",
    "```\n",
    "STUDENTS=(\n",
    "student1.domain.com\n",
    "student2.domain.com\n",
    ")\n",
    "```\n",
    "\n",
    "** 次のセルで回収対象ユーザのメールアドレスを設定して、セルを実行して下さい。**"
   ]
  },
  {
   "cell_type": "code",
   "execution_count": null,
   "metadata": {
    "collapsed": true
   },
   "outputs": [],
   "source": [
    "STUDENTS=(\n",
    ")"
   ]
  },
  {
   "cell_type": "markdown",
   "metadata": {},
   "source": [
    "## 2. 回収するファイルおよびフォルダを指定します"
   ]
  },
  {
   "cell_type": "markdown",
   "metadata": {},
   "source": [
    "ANSWER_LISTに、回収するファイルおよびフォルダを、スペース区切りで列挙して下さい。\n",
    "```\n",
    "ANSWER_LIST=\"answer1.ipynb answer2.ipynb answer_info\"\n",
    "```\n",
    "\n",
    "** 次のセルで回収対象のファイル/フォルダを設定して、セルを実行して下さい。**"
   ]
  },
  {
   "cell_type": "code",
   "execution_count": null,
   "metadata": {
    "collapsed": true
   },
   "outputs": [],
   "source": [
    "ANSWER_LIST=\"\""
   ]
  },
  {
   "cell_type": "markdown",
   "metadata": {},
   "source": [
    "## 3. 回収したファイル/フォルダのアーカイブファイル名を指定します"
   ]
  },
  {
   "cell_type": "markdown",
   "metadata": {},
   "source": [
    "アーカイブファイルのファイル名を、ARCHIVE_FILEに設定して下さい。\n",
    "```\n",
    "ARCHIVE_FILE=answer.tar.gz\n",
    "```\n",
    "\n",
    "** 次のセルでアーカイブファイル名を指定して、セルを実行して下さい。**"
   ]
  },
  {
   "cell_type": "code",
   "execution_count": null,
   "metadata": {
    "collapsed": true
   },
   "outputs": [],
   "source": [
    "ARCHIVE_FILE="
   ]
  },
  {
   "cell_type": "markdown",
   "metadata": {},
   "source": [
    "## 4. アーカイブファイルを格納するフォルダを作成します"
   ]
  },
  {
   "cell_type": "markdown",
   "metadata": {},
   "source": [
    "* アーカイブファイルを格納するフォルダを作成します。\n",
    "* フォルダ名を変更する場合は、ARCHIVE_FILE_DIR を変更して下さい。\n",
    "* フォルダはホームディレクトリ直下に作成されます。\n",
    "```\n",
    "ARCHIVE_FILE_DIR=answer\n",
    "```\n",
    "\n",
    "** 次のセルでアーカイブファイルを格納するフォルダ名を指定して、セルを実行して下さい。**"
   ]
  },
  {
   "cell_type": "code",
   "execution_count": null,
   "metadata": {
    "collapsed": true
   },
   "outputs": [],
   "source": [
    "ARCHIVE_FILE_DIR=answer\n",
    "\n",
    "# create the \n",
    "ARCHIVE_DIR_PATH=$HOME/$ARCHIVE_FILE_DIR\n",
    "[ -e $ARCHIVE_DIR_PATH ] || {\n",
    "  sudo mkdir -p $ARCHIVE_DIR_PATH\n",
    "  sudo chown $USER:$USER $ARCHIVE_DIR_PATH\n",
    "}"
   ]
  },
  {
   "cell_type": "markdown",
   "metadata": {},
   "source": [
    "## 5. 次のセルを実行して、回答を回収して下さい"
   ]
  },
  {
   "cell_type": "markdown",
   "metadata": {},
   "source": [
    "* 回答アーカイブファイルは、上記で作成したARCHIVE_FILE_DIRに格納されます。\n",
    "* このセルで利用しているスクリプトはこちらを参照して下さい。\n",
    "  + [collect-answer](./collect-answer)"
   ]
  },
  {
   "cell_type": "code",
   "execution_count": null,
   "metadata": {
    "scrolled": true
   },
   "outputs": [],
   "source": [
    "# check setting\n",
    "do_collect=1\n",
    "[ \"${#STUDENTS[@]}\" -eq 0 ]  && {\n",
    "    echo \"STUDENTS is not set.\"\n",
    "    do_collect=0\n",
    "}\n",
    "if [ \"$do_collect\" -eq 1 ] && [ -z \"$ANSWER_LIST\" ]; then\n",
    "    echo \"ANSWER_LIST is not found.\"\n",
    "    do_collect=0\n",
    "fi\n",
    "if [ \"$do_collect\" -eq 1 ] && [ -z \"$ARCHIVE_FILE\" ]; then\n",
    "    echo \"ARCHIVE_FILE is not found.\"\n",
    "    do_collect=0\n",
    "fi\n",
    "if [ \"$do_collect\" -eq 1 ] && [ -z \"$ARCHIVE_FILE_DIR\" ]; then\n",
    "    echo \"ARCHIVE_FILE_DIR is not found.\"\n",
    "    do_collect=0\n",
    "fi\n",
    "\n",
    "# collect answaers\n",
    "if [ \"$do_collect\" -eq 1 ]; then\n",
    "    # the work directory \n",
    "    WORK_DIR=/tmp/answer_work\n",
    "    ARCHIVE_FILE=$ARCHIVE_DIR_PATH/answer.tar.gz\n",
    "    [ -e $WORK_DIR ] && {\n",
    "        rm -rf $WORK_DIR\n",
    "    }\n",
    "    mkdir -p $WORK_DIR\n",
    "\n",
    "    for student in ${STUDENTS[@]}\n",
    "    do\n",
    "        ./collect-answer $student \"$ANSWER_LIST\" $WORK_DIR  \n",
    "    done\n",
    "\n",
    "    # the archive file\n",
    "    tar cvfz $ARCHIVE_FILE -C $WORK_DIR .\n",
    "\n",
    "    # cleanup\n",
    "    rm -rf $WORK_DIR\n",
    "fi\n",
    "\n",
    "echo\n",
    "echo \"... collect answer finished.\""
   ]
  }
 ],
 "metadata": {
  "kernelspec": {
   "display_name": "Bash",
   "language": "bash",
   "name": "bash"
  },
  "language_info": {
   "codemirror_mode": "shell",
   "file_extension": ".sh",
   "mimetype": "text/x-sh",
   "name": "bash"
  }
 },
 "nbformat": 4,
 "nbformat_minor": 1
}
