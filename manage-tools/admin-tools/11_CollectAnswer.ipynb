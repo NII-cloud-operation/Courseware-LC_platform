{
 "cells": [
  {
   "cell_type": "markdown",
   "metadata": {},
   "source": [
    "# 回答を回収します\n",
    "---"
   ]
  },
  {
   "cell_type": "markdown",
   "metadata": {},
   "source": [
    "課題の回答を記述したnotebookなどの回答ファイルを回収します。\n",
    "* 回収したフィアルは、tar.gzファイルにアーカイブします。\n",
    "* notebookファイルは、HTLMファイルに変換して同梱します。\n",
    "\n",
    "回収する場合は次のセルを実行して下さい。<br/>\n",
    "\n",
    "* リスト'STUDENS'に回答の回収対象のユーザ名を列挙します。\n",
    "```\n",
    "STUDENTS=(\n",
    "student1\n",
    "student2\n",
    ")\n",
    "```\n",
    "* ANSWER_LISTには回収するファイルおよびディレクトリを指定します。\n",
    "```\n",
    "ANSWER_LIST=\"answer1.ipynb answer2.ipynb answer_info\"\n",
    "```\n",
    "* ARCHIVE_FILEにはアーカイブファイルのファイル名を指定します。デフォルトでが下記が設定されています。\n",
    "```\n",
    "ARCHIVE_FILE=answer.tar.gz\n",
    "```\n",
    "* ARCHIVE_FILE_DIRにはアーカイブファイルを格納するディレクトリのパス名を指定します。デフォルトで下記が設定されています。\n",
    "```\n",
    "ARCHIVE_FILE_DIR=/jupyter/admin/answer\n",
    "```\n",
    "* このセルで利用しているスクリプトはこちらを参照して下さい。\n",
    "  + [collect-answer](./collect-answer)"
   ]
  },
  {
   "cell_type": "code",
   "execution_count": null,
   "metadata": {
    "collapsed": false,
    "scrolled": true
   },
   "outputs": [],
   "source": [
    "#!/bin/bash\n",
    "\n",
    "set -x\n",
    "\n",
    "STUDENTS=(\n",
    ")\n",
    "\n",
    "ANSWER_LIST=\"\"\n",
    "ARCHIVE_FILE=answer.tar.gz\n",
    "ARCHIVE_FILE_DIR=/jupyter/admin/$USER/answer\n",
    "\n",
    "# create the \n",
    "[ -e $ARCHIVE_FILE_DIR ] || {\n",
    "  sudo mkdir -p $ARCHIVE_FILE_DIR\n",
    "  sudo chown $USER:$USER $ARCHIVE_FILE_DIR\n",
    "}\n",
    "\n",
    "# the work directory \n",
    "WORK_DIR=/tmp/answer_work\n",
    "ARCHIVE_FILE=$ARCHIVE_FILE_DIR/answer.tar.gz\n",
    "[ -e $WORK_DIR ] && {\n",
    "  rm -rf $WORK_DIR\n",
    "}\n",
    "mkdir -p $WORK_DIR\n",
    "\n",
    "for student in ${STUDENTS[@]}\n",
    "do\n",
    "  ./collect-answer $student \"$ANSWER_LIST\" $WORK_DIR  \n",
    "done\n",
    "\n",
    "# the archive file\n",
    "tar cvfz $ARCHIVE_FILE -C $WORK_DIR .\n",
    "\n",
    "# cleanup\n",
    "rm -rf $WORK_DIR"
   ]
  }
 ],
 "metadata": {
  "kernelspec": {
   "display_name": "Bash",
   "language": "bash",
   "name": "bash"
  },
  "language_info": {
   "codemirror_mode": "shell",
   "file_extension": ".sh",
   "mimetype": "text/x-sh",
   "name": "bash"
  }
 },
 "nbformat": 4,
 "nbformat_minor": 0
}
