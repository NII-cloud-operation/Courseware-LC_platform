{
 "cells": [
  {
   "cell_type": "markdown",
   "metadata": {},
   "source": [
    "# notebookを配布する"
   ]
  },
  {
   "cell_type": "markdown",
   "metadata": {},
   "source": [
    "リリース済みのnotebookを配布します。\n",
    "\n",
    "配布する場合は次のセルを実行して下さい。<br/>\n",
    "\n",
    "* リスト'STUDENS'に配布先のユーザ名を列挙します。\n",
    "```\n",
    "STUDENTS=(\n",
    "student1\n",
    "student2\n",
    ")\n",
    "```\n",
    "* リリース直後に動作確認を行う場合は、JupyterHubのControle Panaelで動作確認用のユーザを追懐して、リスト'STUDENTS'に設定して、このセルを実行して下さい。\n",
    "* このセルで利用しているスクリプトはこちらを参照して下さい。\n",
    "  + [distribute-notebooks](./distribute-notebooks)"
   ]
  },
  {
   "cell_type": "code",
   "execution_count": null,
   "metadata": {
    "collapsed": false
   },
   "outputs": [],
   "source": [
    "#!/bin/bash\n",
    "\n",
    "set -x\n",
    "\n",
    "STUDENTS=(\n",
    ")\n",
    "\n",
    "for student in ${STUDENTS[@]}\n",
    "do\n",
    "  ./distribute-notebooks $student\n",
    "done"
   ]
  }
 ],
 "metadata": {
  "kernelspec": {
   "display_name": "Bash",
   "language": "bash",
   "name": "bash"
  },
  "language_info": {
   "codemirror_mode": "shell",
   "file_extension": ".sh",
   "mimetype": "text/x-sh",
   "name": "bash"
  }
 },
 "nbformat": 4,
 "nbformat_minor": 0
}
