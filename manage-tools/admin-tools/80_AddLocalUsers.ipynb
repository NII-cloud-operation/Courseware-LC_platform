{
 "cells": [
  {
   "cell_type": "markdown",
   "metadata": {},
   "source": [
    "# ローカルユーザを新規登録します\n",
    "<HR>"
   ]
  },
  {
   "cell_type": "markdown",
   "metadata": {},
   "source": [
    "ローカルユーザを登録します。登録時にユーザのログインパスワードを自動生成します。<br/>\n",
    "ローカルユーザとは、このコースにのみログインできるユーザです。SSOには利用できません。<br/>\n",
    "\n",
    "次のセルで、下記のように登録するユーザのメールアドレスを配列「users」にを設定して、セルを実行して下さい。\n",
    "```\n",
    "users=(\n",
    "user01@domain.com\n",
    "user02@domain.com\n",
    "user03@domain.com\n",
    ")\n",
    "```\n",
    "**登録したユーザは、メールアドレスとパスワードで認証されます。**<br/>\n",
    "**ユーザのメールアドレスとパスワードが出力されますので、必ず、記録して下さい。**"
   ]
  },
  {
   "cell_type": "code",
   "execution_count": null,
   "metadata": {
    "collapsed": true
   },
   "outputs": [],
   "source": [
    "./ssh-auth-proxy << 'EOF'\n",
    "# 次のusersに、登録するユーザのメールアドレスを設定して下さい\n",
    "users=(\n",
    ")\n",
    "#\n",
    "\n",
    "for mail in ${users[@]}\n",
    "do\n",
    "    php /var/www/php/add-local-user.php $mail\n",
    "done \n",
    "EOF"
   ]
  }
 ],
 "metadata": {
  "kernelspec": {
   "display_name": "Bash",
   "language": "bash",
   "name": "bash"
  },
  "language_info": {
   "codemirror_mode": "shell",
   "file_extension": ".sh",
   "mimetype": "text/x-sh",
   "name": "bash"
  }
 },
 "nbformat": 4,
 "nbformat_minor": 2
}
