{
 "cells": [
  {
   "cell_type": "markdown",
   "metadata": {
    "deletable": true,
    "editable": true
   },
   "source": [
    "# ローカルユーザの新規登録"
   ]
  },
  {
   "cell_type": "markdown",
   "metadata": {
    "deletable": true,
    "editable": true
   },
   "source": [
    "ローカルユーザを登録します。登録時にユーザのログインパスワードを自動生成します。<br/>\n",
    "ローカルユーザとは、このコースにのみログインできるユーザです。SSOには利用できません。<br/>\n",
    "\n",
    "次のセルで、配列「users」に、下記のように登録するユーザのメールアドレスを設定して、セルを実行して下さい。\n",
    "```\n",
    "users=(\n",
    "user01@ecloud.nii.ac.jp\n",
    "user02@ecloud.nii.ac.jp\n",
    "user03@ecloud.nii.ac.jp\n",
    ")\n",
    "```\n",
    "**登録したユーザは、メールアドレスとパスワードで認証されます。**<br/>\n",
    "**ユーザのメールアドレスとパスワードが出力されますので、必ず、記録して下さい。**"
   ]
  },
  {
   "cell_type": "code",
   "execution_count": null,
   "metadata": {
    "collapsed": false,
    "deletable": true,
    "editable": true
   },
   "outputs": [],
   "source": [
    "./ssh-auth-proxy << 'EOF'\n",
    "# 次のusersに、登録するユーザのメールアドレスを設定して下さい\n",
    "users=(\n",
    ")\n",
    "#\n",
    "\n",
    "for mail in ${users[@]}\n",
    "do\n",
    "    php /var/www/php/add-local-user.php $mail\n",
    "done \n",
    "EOF"
   ]
  }
 ],
 "metadata": {
  "kernelspec": {
   "display_name": "Bash",
   "language": "bash",
   "name": "bash"
  },
  "language_info": {
   "codemirror_mode": "shell",
   "file_extension": ".sh",
   "mimetype": "text/x-sh",
   "name": "bash"
  }
 },
 "nbformat": 4,
 "nbformat_minor": 2
}
