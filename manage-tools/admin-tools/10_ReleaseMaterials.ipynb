{
 "cells": [
  {
   "cell_type": "markdown",
   "metadata": {},
   "source": [
    "# 教材をリリースする\n",
    "---"
   ]
  },
  {
   "cell_type": "markdown",
   "metadata": {
    "collapsed": true
   },
   "source": [
    "作成した教材をリリースします。リリースした教材は、フォルダ「copybook」で保持されます。<br/>\n",
    "\n",
    "次のセルを実行して下さい。\n",
    "* 'MATELIALS' には、リリースする教材のファイル名、フォルダ名を列挙します。\n",
    "```\n",
    "MATELIALS=\"notebook-1.ipynb additional/\"\n",
    "```"
   ]
  },
  {
   "cell_type": "code",
   "execution_count": null,
   "metadata": {
    "collapsed": false
   },
   "outputs": [],
   "source": [
    "#!/bin/bash\n",
    "\n",
    "MATELIALS=\".local notebook-2.ipynb other/ info.txt\"\n",
    "\n",
    "ROOT_DIR=/jupyter\n",
    "SRC_COPYBOOK=$ROOT_DIR/admin/$USER\n",
    "DST_COPYBOOK=$ROOT_DIR/admin/copybook\n",
    "EXCLUDE_OPTIONS=\"--exclude=.* --exclude=*\"\n",
    "\n",
    "# build include options\n",
    "include_options=\"\"\n",
    "for material in $MATELIALS; do\n",
    "  include_options=\"${include_options}--include=$material \"\n",
    "done\n",
    "\n",
    "# add include option for deleted materials\n",
    "for material in $( ls \"$DST_COPYBOOK\" ); do\n",
    "  src=\"$SRC_COPYBOOK/$material\"\n",
    "  dst=\"$DST_COPYBOOK/$material\"\n",
    "  if [ ! -e \"$src\" ]; then\n",
    "    include_options=\"${include_options}--include=$material \"\n",
    "  fi\n",
    "done\n",
    "\n",
    "# release materials\n",
    "rsync -rltuvO --delete $include_options $EXCLUDE_OPTIONS $SRC_COPYBOOK/ $DST_COPYBOOK\n",
    "\n",
    "# delete canceled materials\n"
   ]
  }
 ],
 "metadata": {
  "kernelspec": {
   "display_name": "Bash",
   "language": "bash",
   "name": "bash"
  },
  "language_info": {
   "codemirror_mode": "shell",
   "file_extension": ".sh",
   "mimetype": "text/x-sh",
   "name": "bash"
  }
 },
 "nbformat": 4,
 "nbformat_minor": 0
}
