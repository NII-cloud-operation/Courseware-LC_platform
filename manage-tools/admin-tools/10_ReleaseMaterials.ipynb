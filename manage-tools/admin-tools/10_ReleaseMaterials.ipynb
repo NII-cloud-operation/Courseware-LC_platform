{
 "cells": [
  {
   "cell_type": "markdown",
   "metadata": {},
   "source": [
    "# 教材をリリースする\n",
    "---"
   ]
  },
  {
   "cell_type": "markdown",
   "metadata": {
    "collapsed": true
   },
   "source": [
    "作成した演習Notebook、講義資料などの教材をリリースします。<br>\n",
    "\n",
    "**リリースの手順**<br>\n",
    "1. リリースする教材をHOME直下の下記のフォルダに格納して下さい。\n",
    "  * textbook : 演習Notebookおよび演習Notebook実行に関わるスクリプト、設定ファイルなどを格納します\n",
    "  * info : 受講者全員が参照する資料などを格納します\n",
    "2. 次のセルを実行して、リリースます。\n",
    "  * リリースすると、各受講者のJupyterのHOME画面で「textbook」「info」として参照できるようになリます。\n"
   ]
  },
  {
   "cell_type": "code",
   "execution_count": null,
   "metadata": {
    "collapsed": true,
    "deletable": false,
    "locked": true,
    "run_control": {
     "marked": false
    }
   },
   "outputs": [],
   "source": [
    "#!/bin/bash\n",
    "\n",
    "ROOT_DIR=/jupyter/admin/\n",
    "TEXTBOOK=textbook\n",
    "INFO=info\n",
    "SRC_TEXTBOOK=$HOME/$TEXTBOOK\n",
    "DST_TEXTBOOK=$ROOT_DIR/$TEXTBOOK\n",
    "SRC_INFO=$HOME/$INFO\n",
    "DST_INFO=$ROOT_DIR/$INFO\n",
    "EXCLUDE_OPTIONS=\"--exclude=.ipynb_checkpoints\"\n",
    "\n",
    "# release textbook \n",
    "sudo rsync -rltuv --delete $EXCLUDE_OPTIONS $SRC_TEXTBOOK/ $DST_TEXTBOOK\n",
    "sudo chmod 444 $DST_TEXTBOOK/*.ipynb\n",
    "\n",
    "# release info \n",
    "sudo rsync -rltuv --delete $EXCLUDE_OPTIONS $SRC_INFO/ $DST_INFO\n",
    "sudo chmod 444 $DST_INFO/*"
   ]
  },
  {
   "cell_type": "code",
   "execution_count": null,
   "metadata": {
    "collapsed": true,
    "hide_input": true,
    "hide_output": true,
    "run_control": {
     "marked": true
    }
   },
   "outputs": [],
   "source": []
  }
 ],
 "metadata": {
  "kernelspec": {
   "display_name": "Bash",
   "language": "bash",
   "name": "bash"
  },
  "language_info": {
   "codemirror_mode": "shell",
   "file_extension": ".sh",
   "mimetype": "text/x-sh",
   "name": "bash"
  },
  "toc": {
   "colors": {
    "hover_highlight": "#DAA520",
    "navigate_num": "#000000",
    "navigate_text": "#333333",
    "running_highlight": "#FF0000",
    "selected_highlight": "#FFD700",
    "sidebar_border": "#EEEEEE",
    "wrapper_background": "#FFFFFF"
   },
   "moveMenuLeft": true,
   "nav_menu": {
    "height": "30px",
    "width": "252px"
   },
   "navigate_menu": true,
   "number_sections": true,
   "sideBar": true,
   "threshold": 4,
   "toc_cell": false,
   "toc_section_display": "block",
   "toc_window_display": false,
   "widenNotebook": false
  }
 },
 "nbformat": 4,
 "nbformat_minor": 1
}
