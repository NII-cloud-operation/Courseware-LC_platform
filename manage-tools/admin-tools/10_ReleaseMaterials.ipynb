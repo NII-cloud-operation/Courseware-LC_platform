{
 "cells": [
  {
   "cell_type": "markdown",
   "metadata": {},
   "source": [
    "# 教材をリリースする\n",
    "---"
   ]
  },
  {
   "cell_type": "markdown",
   "metadata": {
    "collapsed": true
   },
   "source": [
    "作成した教材をリリースします。リリースした教材は、フォルダ「copybook」で保持されます。<br/>\n",
    "\n",
    "次のセルを実行して下さい。\n",
    "* 'MATELIALS' には、リリースする教材のファイル名、フォルダ名を列挙します。\n",
    "```\n",
    "MATELIALS=\"notebook-1.ipynb additional/\"\n",
    "```"
   ]
  },
  {
   "cell_type": "code",
   "execution_count": null,
   "metadata": {
    "collapsed": false
   },
   "outputs": [],
   "source": [
    "#!/bin/bash\n",
    "\n",
    "MATELIALS=\"\"\n",
    "\n",
    "ROOT_DIR=/jupyter\n",
    "SRC_COPYBOOK=$ROOT_DIR/admin/$USER\n",
    "DST_COPYBOOK=$ROOT_DIR/admin/copybook\n",
    "EXCLUDE_OPTIONS=\"--exclude=.* --exclude=*\"\n",
    "\n",
    "# build include options\n",
    "include_options=\"\"\n",
    "for material in $MATELIALS; do\n",
    "  include_options=\"${include_options}--include=$material \"\n",
    "done\n",
    "\n",
    "# add include option for deleted materials\n",
    "for material in $( ls \"$DST_COPYBOOK\" ); do\n",
    "  src=\"$SRC_COPYBOOK/$material\"\n",
    "  dst=\"$DST_COPYBOOK/$material\"\n",
    "  if [ ! -e \"$src\" ]; then\n",
    "    include_options=\"${include_options}--include=$material \"\n",
    "  fi\n",
    "done\n",
    "\n",
    "# release materials\n",
    "rsync -rltuvO --delete $include_options $EXCLUDE_OPTIONS $SRC_COPYBOOK/ $DST_COPYBOOK\n",
    "\n",
    "# deleting the release canceled materials\n",
    "echo\n",
    "echo \"deleting the release canceled materials\"\n",
    "for dst in $(ls -a \"$DST_COPYBOOK\"); do\n",
    "  [[ \"$dst\" = '.' || \"$dst\" = '..' ]] && {\n",
    "    continue\n",
    "  }\n",
    "  [ -d \"$DST_COPYBOOK/$dst\" ] && {\n",
    "    dst=$dst'/'\n",
    "  }\n",
    "  found=0\n",
    "  for material in $MATELIALS; do\n",
    "    if [ \"$material\" = \"$dst\" ]; then\n",
    "      found=1\n",
    "      break\n",
    "    fi\n",
    "  done\n",
    "  if [ \"$found\" -eq 0 ]; then\n",
    "    rm  -rf $DST_COPYBOOK/$dst\n",
    "    echo \"'$dst' was deleted.'\"\n",
    "  fi\n",
    "done"
   ]
  }
 ],
 "metadata": {
  "kernelspec": {
   "display_name": "Bash",
   "language": "bash",
   "name": "bash"
  },
  "language_info": {
   "codemirror_mode": "shell",
   "file_extension": ".sh",
   "mimetype": "text/x-sh",
   "name": "bash"
  }
 },
 "nbformat": 4,
 "nbformat_minor": 0
}
