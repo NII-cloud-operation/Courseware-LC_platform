{
 "cells": [
  {
   "cell_type": "markdown",
   "metadata": {
    "deletable": true,
    "editable": true
   },
   "source": [
    "# 教材をリリースする\n",
    "---"
   ]
  },
  {
   "cell_type": "markdown",
   "metadata": {
    "collapsed": true,
    "deletable": true,
    "editable": true
   },
   "source": [
    "作成した教材をリリースします。リリースした教材は、フォルダ「textbook」で保持されます。<br/>\n",
    "\n",
    "次のセルを実行して下さい。\n",
    "* 'MATELIALS' には、リリースする教材のファイル名、フォルダ名を列挙します。\n",
    "```\n",
    "MATELIALS=\"notebook-1.ipynb additional/\"\n",
    "```"
   ]
  },
  {
   "cell_type": "code",
   "execution_count": null,
   "metadata": {
    "collapsed": false,
    "deletable": true,
    "editable": true
   },
   "outputs": [],
   "source": [
    "#!/bin/bash\n",
    "\n",
    "MATELIALS=\"\"\n",
    "\n",
    "ROOT_DIR=/jupyter\n",
    "SRC_TEXTBOOK=$ROOT_DIR/admin/$USER\n",
    "DST_TEXTBOOK=$ROOT_DIR/admin/textbook\n",
    "EXCLUDE_OPTIONS=\"--exclude=.* --exclude=*\"\n",
    "\n",
    "# add include options for sub-directory\n",
    "function add_dir_include_options () {\n",
    "  (\n",
    "  dir_name=$1\n",
    "  path=$2  \n",
    "  add_options=\"--include=$dir_name/* \"\n",
    "  current_dir=\"$path/$dir_name\"\n",
    "  for material in $(ls \"$current_dir\"); do\n",
    "    [ -d \"$current_dir/$material\" ] && {\n",
    "      add_options=${add_options}$(add_dir_include_options \"$dir_name/$material\" \"$path\")\n",
    "    }\n",
    "  done\n",
    "  echo $add_options\" \"\n",
    "  )\n",
    "}\n",
    "\n",
    "# build include options\n",
    "include_options=\"\"\n",
    "for material in $MATELIALS; do\n",
    "  material=${material%/}  \n",
    "  include_options=\"${include_options}--include=$material \"\n",
    "  [ -d \"$SRC_TEXTBOOK/$material\" ] && {\n",
    "    include_options=${include_options}$(add_dir_include_options \"$material\" \"$SRC_TEXTBOOK\")\n",
    "  }\n",
    "done\n",
    "\n",
    "# release materials\n",
    "rsync -rltuvO --delete $include_options $EXCLUDE_OPTIONS $SRC_TEXTBOOK/ $DST_TEXTBOOK\n",
    "\n",
    "# deleting the release canceled materials\n",
    "echo\n",
    "echo \"deleting the release canceled materials\"\n",
    "for dst in $(ls -a \"$DST_TEXTBOOK\"); do\n",
    "  [[ \"$dst\" = '.' || \"$dst\" = '..' ]] && {\n",
    "    continue\n",
    "  }\n",
    "  found=0\n",
    "  for material in $MATELIALS; do\n",
    "    material=${material%/}  \n",
    "    if [ \"$material\" = \"$dst\" ]; then\n",
    "      found=1\n",
    "      break\n",
    "    fi\n",
    "  done\n",
    "  if [ \"$found\" -eq 0 ]; then\n",
    "    rm  -rf $DST_TEXTBOOK/$dst\n",
    "    echo \"'$dst' was deleted.'\"\n",
    "  fi\n",
    "done"
   ]
  }
 ],
 "metadata": {
  "kernelspec": {
   "display_name": "Bash",
   "language": "bash",
   "name": "bash"
  },
  "language_info": {
   "codemirror_mode": "shell",
   "file_extension": ".sh",
   "mimetype": "text/x-sh",
   "name": "bash"
  }
 },
 "nbformat": 4,
 "nbformat_minor": 0
}
