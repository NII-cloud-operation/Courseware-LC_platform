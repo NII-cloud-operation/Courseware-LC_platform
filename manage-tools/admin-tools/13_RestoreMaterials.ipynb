{
 "cells": [
  {
   "cell_type": "markdown",
   "metadata": {
    "deletable": true,
    "editable": true
   },
   "source": [
    "# 教材バックアップをリストアします"
   ]
  },
  {
   "cell_type": "markdown",
   "metadata": {
    "deletable": true,
    "editable": true
   },
   "source": [
    "教材のバックアップファイルを展開して、指定された位置に配置します。"
   ]
  },
  {
   "cell_type": "markdown",
   "metadata": {
    "deletable": true,
    "editable": true
   },
   "source": [
    "### 1. バックアップファイルを格納するディレクトリを作成します"
   ]
  },
  {
   "cell_type": "markdown",
   "metadata": {
    "deletable": true,
    "editable": true
   },
   "source": [
    "* リストアするバックアップファルを格納するディレクトリです。\n",
    "* ディレクトリを変更する場合は、RESTORE_WORK_DIR を変更して下さい。"
   ]
  },
  {
   "cell_type": "code",
   "execution_count": null,
   "metadata": {
    "collapsed": false,
    "deletable": true,
    "editable": true
   },
   "outputs": [],
   "source": [
    "RESTORE_WORK_DIR=\"$HOME/restore\"\n",
    "\n",
    "# create restore work directory\n",
    "[ -e $RESTORE_WORK_DIR ] || {\n",
    "  sudo mkdir -p $RESTORE_WORK_DIR\n",
    "  sudo chown $USER:$USER $RESTORE_WORK_DIR\n",
    "}\n",
    "\n",
    "# creanlup restore work directory\n",
    "rm -rf $RESTORE_WORK_DIR/*"
   ]
  },
  {
   "cell_type": "markdown",
   "metadata": {
    "deletable": true,
    "editable": true
   },
   "source": [
    "### 2. バックアップファイルを転送します"
   ]
  },
  {
   "cell_type": "markdown",
   "metadata": {
    "deletable": true,
    "editable": true
   },
   "source": [
    "* リストアする バックアップファイルを、ディレクトリ $HOME/restore に転送して下さい。\n",
    "* バックアップファルは tar.gz 形式のファイルです。"
   ]
  },
  {
   "cell_type": "markdown",
   "metadata": {
    "deletable": true,
    "editable": true
   },
   "source": [
    "### 3. バックアップファイル名を指定します"
   ]
  },
  {
   "cell_type": "markdown",
   "metadata": {
    "deletable": true,
    "editable": true
   },
   "source": [
    "* 次にセルで、ARCHIVE_FILE_NAME にリストアするバックアップファイル名を指定して下さい。\n",
    "```\n",
    "ARCHIVE_FILE_NAME=\"course_backup.tar.gz\"\n",
    "```\n",
    "* バックアップファイルは、上のセルで作成した RESTORE_WORK_DIR に格納されているものとします。"
   ]
  },
  {
   "cell_type": "code",
   "execution_count": null,
   "metadata": {
    "collapsed": false,
    "deletable": true,
    "editable": true
   },
   "outputs": [],
   "source": [
    "ARCHIVE_FILE_NAME=\"\""
   ]
  },
  {
   "cell_type": "markdown",
   "metadata": {
    "deletable": true,
    "editable": true
   },
   "source": [
    "### 4. バックアップファイルの内容を確認します"
   ]
  },
  {
   "cell_type": "markdown",
   "metadata": {
    "deletable": true,
    "editable": true
   },
   "source": [
    "* 次のセルを実行して、転送したバックアップファイルの内容を確認して下さい。\n",
    "* バックアップしたファイル/ディレックトリをどこに配置するかの設定に利用します。"
   ]
  },
  {
   "cell_type": "code",
   "execution_count": null,
   "metadata": {
    "collapsed": false,
    "deletable": true,
    "editable": true
   },
   "outputs": [],
   "source": [
    "ARCHIVE_FILE_PATH=\"$HOME/restore/$ARCHIVE_FILE_NAME\"\n",
    "tar tvfz $ARCHIVE_FILE_PATH"
   ]
  },
  {
   "cell_type": "markdown",
   "metadata": {
    "deletable": true,
    "editable": true
   },
   "source": [
    "### 5. 展開したファイル/ディレクトリの配置先を指定します"
   ]
  },
  {
   "cell_type": "markdown",
   "metadata": {
    "deletable": true,
    "editable": true
   },
   "source": [
    "* バックアップファイルは $HOME/resoter ディレクトリに展開されます。\n",
    "* RESTORE_DICに、展開したファイル/ディレクトリを、ホームディレクトリのどこに配置するかを、「配置元  配置先」の形式で指定して下さい。\n",
    "```\n",
    "RESTORE_DIC=(\n",
    "\"配置するファイル/ディレクトリ   ホームディレクトリ配下の配置先\"\n",
    ")\n",
    "```\n",
    "例 : バックアップが下記の構成で\n",
    "```\n",
    "drwxr-xr-x ksasaki11b819/ksasaki11b819 0 2017-05-14 04:24 textbook/\n",
    "-rw-r--r-- ksasaki11b819/ksasaki11b819 436 2017-05-14 04:24 textbook/Untitled.ipynb\n",
    "-rw-r--r-- ksasaki11b819/ksasaki11b819 436 2017-05-14 04:24 textbook/Untitled1.ipynb\n",
    "-rw-r--r-- ksasaki11b819/ksasaki11b819 436 2017-05-14 04:25 test.ipynb\n",
    "```\n",
    " 「textbook」ディレクトリをホームディレクトリ直下へ、「test.ipynb」を~/workへ配置する場合\n",
    "```\n",
    "RESTORE_DIC=(\n",
    "\"textbook .\"\n",
    "\"'*.ipynb' work\"\n",
    ")\n",
    "```\n",
    "  + 配置先にホームディレクトリ直下を指定する場合は、\".\"を指定して下さい。\n",
    "  + 配置元に\"*\"を含む場合は、配置元をシングルクオートで括って下さい。\n",
    "  "
   ]
  },
  {
   "cell_type": "code",
   "execution_count": null,
   "metadata": {
    "collapsed": false,
    "deletable": true,
    "editable": true
   },
   "outputs": [],
   "source": [
    "RESTORE_DIC=(\n",
    ")"
   ]
  },
  {
   "cell_type": "markdown",
   "metadata": {
    "deletable": true,
    "editable": true
   },
   "source": [
    "### 6. 次のセルを実行して、バックアップファイルを展開して下さい\n"
   ]
  },
  {
   "cell_type": "markdown",
   "metadata": {
    "deletable": true,
    "editable": true
   },
   "source": [
    "* バックアップファイルを展開して、RESTORE_DIC で指定した位置に配置します。"
   ]
  },
  {
   "cell_type": "code",
   "execution_count": null,
   "metadata": {
    "collapsed": false,
    "deletable": true,
    "editable": true
   },
   "outputs": [],
   "source": [
    "# expand the backup archive file \n",
    "tar xvfz $ARCHIVE_FILE_PATH -C $RESTORE_WORK_DIR\n",
    "sudo chown -R $USER:$USER $RESTORE_WORK_DIR/*\n",
    "\n",
    "# distribute the expanded file/directory according to the RESTORE_DIC\n",
    "IFS=' '\n",
    "for item in \"${RESTORE_DIC[@]}\"\n",
    "do\n",
    "  set -- $item  \n",
    "  dst_path=$(echo $HOME/$2 | tr -d \"'\")\n",
    "  mkdir -p $dst_path\n",
    "  src_path=$(echo $RESTORE_WORK_DIR/$1 | tr -d \"'\")\n",
    "  cp -rp $src_path $dst_path\n",
    "done\n",
    "\n",
    "# delete restore work directory\n",
    "rm -rf $RESTORE_WORK_DIR"
   ]
  }
 ],
 "metadata": {
  "kernelspec": {
   "display_name": "Bash",
   "language": "bash",
   "name": "bash"
  },
  "language_info": {
   "codemirror_mode": "shell",
   "file_extension": ".sh",
   "mimetype": "text/x-sh",
   "name": "bash"
  }
 },
 "nbformat": 4,
 "nbformat_minor": 2
}
