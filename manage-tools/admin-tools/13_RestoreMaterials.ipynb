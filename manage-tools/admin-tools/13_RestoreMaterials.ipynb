{
 "cells": [
  {
   "cell_type": "markdown",
   "metadata": {},
   "source": [
    "# 保存した教材バックアップをリストアします\n",
    "<HR>"
   ]
  },
  {
   "cell_type": "markdown",
   "metadata": {},
   "source": [
    "保存してある教材のバックアップファイルを展開して、指定された位置に配置します。"
   ]
  },
  {
   "cell_type": "markdown",
   "metadata": {},
   "source": [
    "### 1. リストアの準備"
   ]
  },
  {
   "cell_type": "markdown",
   "metadata": {},
   "source": [
    "このNotebookを実行すると、ホームディレクトリ直下の下記のフォルダを、バックアップファイルの内容で上書きコピーします。<br/>\n",
    "**上書きしたくないファイル/フォルダは、下記のフォルダから退避しておいて下さい。**\n",
    "* textbook\n",
    "  + 教材Notebookおよび教材Notebookから呼び出すスクリプトなど\n",
    "* info\n",
    "  + 受講者が参照する参考資料など\n",
    "* draft\n",
    "  + 教材以外で保存して置きたいNotebook、その他ファイル"
   ]
  },
  {
   "cell_type": "markdown",
   "metadata": {},
   "source": [
    "### 2. リストアの作業用フォルダを作成します"
   ]
  },
  {
   "cell_type": "markdown",
   "metadata": {},
   "source": [
    "* リストアするバックアップファルを格納して、展開するための作業用フォルダです。\n",
    "* フォルダを変更する場合は、RESTORE_WORK_DIR を変更して下さい。\n",
    "* フォルダが既存の場合、フォルダ配下のファイルは削除されます。必要があれば事前に退避して下さい。\n",
    "\n",
    "**次のセルを実行して、作業用フォルダを作成して下さい。**"
   ]
  },
  {
   "cell_type": "code",
   "execution_count": null,
   "metadata": {
    "collapsed": true
   },
   "outputs": [],
   "source": [
    "RESTORE_WORK_DIR=\"$HOME/restore\"\n",
    "\n",
    "# create restore work directory\n",
    "[ -e $RESTORE_WORK_DIR ] || {\n",
    "  mkdir -p $RESTORE_WORK_DIR\n",
    "  chown $USER:$USER $RESTORE_WORK_DIR\n",
    "}\n",
    "\n",
    "# creanlup restore work directory\n",
    "rm -rf $RESTORE_WORK_DIR/*"
   ]
  },
  {
   "cell_type": "markdown",
   "metadata": {},
   "source": [
    "### 3. バックアップファイルを転送します"
   ]
  },
  {
   "cell_type": "markdown",
   "metadata": {},
   "source": [
    "* リストアする バックアップファイル(tar.gz 形式)を、上記で作成した作業用フォルダに転送して下さい。\n",
    "* バックアップファイルがローカルマシンにある場合は、下記の手順でアップロードできます。\n",
    "  1. ブラウザのHome画面で、リストア作業用フォルダを開きます。\n",
    "  2. 画面右上の[Upload]ボタンをクリックします。ファイル選択ダイアログが開きます。\n",
    "  3. ファイルを選択して[開く]ボタンをクリックします。 バックアップファイル名がリストされます。\n",
    "  4. バックアップファイル名の行の右端に表示される[Upload]ボタンをクリックします。"
   ]
  },
  {
   "cell_type": "markdown",
   "metadata": {},
   "source": [
    "### 4. バックアップファイル名を指定します"
   ]
  },
  {
   "cell_type": "markdown",
   "metadata": {},
   "source": [
    "* ARCHIVE_FILE_NAME にリストアするバックアップファイル名を指定して下さい。\n",
    "```\n",
    "ARCHIVE_FILE_NAME=\"course_backup.tar.gz\"\n",
    "```\n",
    "* バックアップファイルは、上のセルで作成した RESTORE_WORK_DIR に格納されているものとします。\n",
    "\n",
    "** 次のセルでバックアップファイル名を指定して、セルを実行して下さい。**"
   ]
  },
  {
   "cell_type": "code",
   "execution_count": null,
   "metadata": {
    "collapsed": true
   },
   "outputs": [],
   "source": [
    "ARCHIVE_FILE_NAME=\"\""
   ]
  },
  {
   "cell_type": "markdown",
   "metadata": {},
   "source": [
    "### 4. 次のセルを実行して、バックアップファイルを展開して下さい\n"
   ]
  },
  {
   "cell_type": "markdown",
   "metadata": {},
   "source": [
    "バックアップファイルを展開して、ホームディレクトリに配置します。"
   ]
  },
  {
   "cell_type": "code",
   "execution_count": null,
   "metadata": {
    "collapsed": true
   },
   "outputs": [],
   "source": [
    "# check setting\n",
    "do_restore=1\n",
    "[ -z \"$ARCHIVE_FILE_NAME\" ]  && {\n",
    "    echo \"ARCHIVE_FILE_NAME is not set.\"\n",
    "    do_restore=0\n",
    "}\n",
    "\n",
    "ARCHIVE_FILE_PATH=$RESTORE_WORK_DIR/$ARCHIVE_FILE_NAME\n",
    "if [ \"$do_restore\" -eq 1 ] && [ ! -e \"$ARCHIVE_FILE_PATH\" ]; then\n",
    "    echo \"ARCHIVE_FILE is not found.\"\n",
    "    do_restore=0\n",
    "fi\n",
    "\n",
    "if [ \"$do_restore\" -eq 1 ]; then\n",
    "    # expand the backup archive file \n",
    "    (cd $RESTORE_WORK_DIR; tar xvfz $ARCHIVE_FILE_NAME)\n",
    "    chown -R $USER:$USER $RESTORE_WORK_DIR\n",
    "\n",
    "    # list of files/folders to move\n",
    "    move_list=\"\"\n",
    "    SKIPS_REG=\"\\.$|\\.\\.$|$ARCHIVE_FILE_NAME\"\n",
    "    for item in $(ls -a $RESTORE_WORK_DIR); do\n",
    "        [[ \"$item\" =~ $SKIPS_REG ]] && continue\n",
    "        move_list=$move_list\" $item\"\n",
    "    done\n",
    "\n",
    "    # move files/folders\n",
    "    for target in $move_list; do\n",
    "        cp -r $RESTORE_WORK_DIR/$target \"$HOME/.\"\n",
    "    done\n",
    "fi\n",
    "\n",
    "# delete restore work directory\n",
    "rm -rf $RESTORE_WORK_DIR\n",
    "\n",
    "echo\n",
    "echo \"... backup finished.\""
   ]
  }
 ],
 "metadata": {
  "kernelspec": {
   "display_name": "Bash",
   "language": "bash",
   "name": "bash"
  },
  "language_info": {
   "codemirror_mode": "shell",
   "file_extension": ".sh",
   "mimetype": "text/x-sh",
   "name": "bash"
  }
 },
 "nbformat": 4,
 "nbformat_minor": 2
}
