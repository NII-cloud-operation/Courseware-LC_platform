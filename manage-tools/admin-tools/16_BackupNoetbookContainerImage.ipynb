{
 "cells": [
  {
   "cell_type": "markdown",
   "metadata": {
    "deletable": true,
    "editable": true
   },
   "source": [
    "# My Server の Container イメージをバックアップする"
   ]
  },
  {
   "cell_type": "markdown",
   "metadata": {
    "deletable": true,
    "editable": true
   },
   "source": [
    "「My Server」 の Container イメージを取得して、バックアップファルを作成します。"
   ]
  },
  {
   "cell_type": "markdown",
   "metadata": {
    "deletable": true,
    "editable": true
   },
   "source": [
    "### 1. 次のセルを実行して、Container イメージをバックアップして下さい"
   ]
  },
  {
   "cell_type": "markdown",
   "metadata": {
    "deletable": true,
    "editable": true
   },
   "source": [
    "* バックアップファイルは、ディレクトリ $HOME/image_backup に保存されます。\n",
    "* バックアップファイル名は、「server-container-YYMMDD-HHMMSS.tar」形式で生成されます。\n",
    "* このセルで利用しているスクリプトはこちらを参照して下さい。\n",
    "  + [create-image](./create-image)"
   ]
  },
  {
   "cell_type": "code",
   "execution_count": null,
   "metadata": {
    "collapsed": false,
    "deletable": true,
    "editable": true
   },
   "outputs": [],
   "source": [
    "BACKUP_WORK_DIR=\"$HOME/images\"\n",
    "\n",
    "# create backup work directory\n",
    "rm -rf $BACKUP_WORK_DIR/*\n",
    "\n",
    "# create the container image backup\n",
    "./create-image \"$BACKUP_WORK_DIR\""
   ]
  }
 ],
 "metadata": {
  "kernelspec": {
   "display_name": "Bash",
   "language": "bash",
   "name": "bash"
  },
  "language_info": {
   "codemirror_mode": "shell",
   "file_extension": ".sh",
   "mimetype": "text/x-sh",
   "name": "bash"
  }
 },
 "nbformat": 4,
 "nbformat_minor": 2
}
