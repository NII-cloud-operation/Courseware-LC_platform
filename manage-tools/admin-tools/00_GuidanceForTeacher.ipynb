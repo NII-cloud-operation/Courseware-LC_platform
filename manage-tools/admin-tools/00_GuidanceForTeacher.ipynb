{
 "cells": [
  {
   "cell_type": "markdown",
   "metadata": {},
   "source": [
    "---\n",
    "# 先生向けガイダンス\n",
    "---\n",
    "## はじめに\n",
    "---\n",
    "このガイダンスでは、Jupyterを利用した講義・演習のための教材作りについて説明します。\n",
    "\n",
    "Jupyterは\n",
    "notebook\n",
    "ドキュメントと演習\n",
    "\n",
    "bash スクリプト\n",
    "pysthon スクリプト\n",
    "が実行できる\n",
    "\n",
    "テキストファイル\n",
    "ドラックアンドドロップ\n",
    "\n"
   ]
  },
  {
   "cell_type": "markdown",
   "metadata": {},
   "source": [
    "## 教材の作成手順\n",
    "---"
   ]
  },
  {
   "cell_type": "markdown",
   "metadata": {},
   "source": [
    "# ⭐️ここに絵を置きたい"
   ]
  },
  {
   "cell_type": "markdown",
   "metadata": {},
   "source": [
    " ## 教材を作成する\n",
    " ---"
   ]
  },
  {
   "cell_type": "markdown",
   "metadata": {},
   "source": [
    "### 教材の作成場所\n",
    "教材はホーム直下に作成、配置して下さい。ホームにフォルダを作成して、その下に配置しても構いません。（参考 : [フォルダを作成する](00_JupyterOperationTips.ipynb#folder))"
   ]
  },
  {
   "cell_type": "markdown",
   "metadata": {},
   "source": [
    "### notebookの作成\n",
    "利用する Kernel を決めます。Bash、Python2、Python3から選択します。（参考 : [notebookを作成する](00_JupyterOperationTips.ipynb#create_notebook) / [notebookを保存する](00_JupyterOperationTips.ipynb#save_notebook) / [notebookの名前を変更する](00_JupyterOperationTips.ipynb#rename_notebook))"
   ]
  },
  {
   "cell_type": "markdown",
   "metadata": {},
   "source": [
    "### テキストファイルの作成\n",
    "テキストファイルは、Juypyterの画面から作成、編集ができます。（参考 : [テキストファイルを作成する](00_JupyterOperationTips.ipynb#textfile))"
   ]
  },
  {
   "cell_type": "markdown",
   "metadata": {},
   "source": [
    "### その他のファイル\n",
    "PDFや画像ファイルなどのファイルをアップロードして教材に含めることができます。（参考 : [ファイルをアップロードする](00_JupyterOperationTips.ipynb#upload))"
   ]
  },
  {
   "cell_type": "markdown",
   "metadata": {},
   "source": [
    "## 教材をリリースする\n",
    "---\n",
    "教材の準備が整ったら、リリースします。リリースすると教材はフォルダ「copybook」に格納され、以後、学生がこれをコピーして利用できるようになります。<br/>\n",
    "教材のリリース作業はnotebook [01_ReleaseMaterials](01_ReleaseMaterials.ipynb) で行って下さい。"
   ]
  },
  {
   "cell_type": "markdown",
   "metadata": {},
   "source": [
    "## 課題の回答を回収する\n",
    "---\n",
    "回答の回収作業はnotebook [02_CollectAnswer](02_CollectAnswer.ipynb) で行って下さい。"
   ]
  },
  {
   "cell_type": "markdown",
   "metadata": {},
   "source": [
    "## リリースした教材を保存する\n",
    "---\n"
   ]
  },
  {
   "cell_type": "markdown",
   "metadata": {},
   "source": [
    "## 特定のJupyter Serverの環境を保存する\n",
    "---"
   ]
  },
  {
   "cell_type": "markdown",
   "metadata": {},
   "source": [
    "## 保存したJupyter Server環境を再現する\n",
    "---"
   ]
  },
  {
   "cell_type": "markdown",
   "metadata": {},
   "source": []
  }
 ],
 "metadata": {
  "kernelspec": {
   "display_name": "Bash",
   "language": "bash",
   "name": "bash"
  },
  "language_info": {
   "codemirror_mode": "shell",
   "file_extension": ".sh",
   "mimetype": "text/x-sh",
   "name": "bash"
  }
 },
 "nbformat": 4,
 "nbformat_minor": 0
}
