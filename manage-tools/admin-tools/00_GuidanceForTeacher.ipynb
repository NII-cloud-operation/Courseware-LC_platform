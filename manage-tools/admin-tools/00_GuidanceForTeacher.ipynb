{
 "cells": [
  {
   "cell_type": "markdown",
   "metadata": {},
   "source": [
    "---\n",
    "# 先生向けガイダンス\n",
    "---\n",
    "## はじめに\n",
    "---\n",
    "このガイダンスでは、Jupyterを利用した講義・演習のための教材作りについて説明します。\n",
    "\n",
    "Jupyterは、 Webブラウザからアクセスできる「notebook」と呼ばれるインタラクティブなインターフェイスを提供するツールです。 <br/>\n",
    "notebookは、Markdown形式のドキュメントの表示と任意の言語（コード）を埋め込みが可能で、埋め込んだコードの表示、実行、結果の表示が行えます。\n",
    "\n",
    "なお、Jupyterの概要については、[こちら](./01_JupyterOverview.ipynb)を参考にして下さい。\n"
   ]
  },
  {
   "cell_type": "markdown",
   "metadata": {},
   "source": [
    "## 教材の作成から講義・演習の実施までの流れ\n",
    "---\n",
    "講義・演習用の教材の作成から演習の実施までは以下のように進めます。さらに、講義で課題を設けた場合、学生が作成した回答ファイルを一括回収することができます。\n",
    "\n",
    "1. 教材の作成\n",
    "2. 教材のリリース\n",
    "3. 教材の動作を確認する\n",
    "4. 講義・演習の実施\n",
    "5. 回答ファイルの回収"
   ]
  },
  {
   "cell_type": "markdown",
   "metadata": {},
   "source": [
    "![documentflowteacher](https://cloud.githubusercontent.com/assets/1156894/20779650/1ff53ade-b7b9-11e6-9d39-057555b81d61.png)"
   ]
  },
  {
   "cell_type": "markdown",
   "metadata": {},
   "source": [
    " ## 1. 教材を作成する"
   ]
  },
  {
   "cell_type": "markdown",
   "metadata": {},
   "source": [
    "### 教材の作成場所について\n",
    "---\n",
    "Jupyterにログインすると、ダッシュボード画面が表示されます。<br/>\n",
    "Filesタブを選択するとHomeディレクトリが表示されます。教材は、このHomeディレクトリ直下で作成して下さい。Homeディレクトリにフォルダを作成して、その下に配置しても構いません。\n",
    "\n",
    "[フォルダを作成する](02_JupyterOperationTips.ipynb#folder)"
   ]
  },
  {
   "cell_type": "markdown",
   "metadata": {},
   "source": [
    "### 教材ファイルの作成\n",
    "---\n",
    "notebookやテキストファイルは、WebブラウザからJupyterの画面で作成、編集します。<br/>\n",
    "\n",
    "[notebookを作成する](02_JupyterOperationTips.ipynb#create_notebook) / [notebookを保存する](02_JupyterOperationTips.ipynb#save_notebook) / [notebookの名前を変更する](02_JupyterOperationTips.ipynb#rename_notebook) / [テキストファイルを作成する](02_JupyterOperationTips.ipynb#textfile)"
   ]
  },
  {
   "cell_type": "markdown",
   "metadata": {},
   "source": [
    "### その他ファイルのアップロード\n",
    "---\n",
    "PDFや画像ファイルなどのファイルをアップロードして教材に含めることができます。\n",
    "\n",
    "[ファイルをアップロードする](02_JupyterOperationTips.ipynb#upload)"
   ]
  },
  {
   "cell_type": "markdown",
   "metadata": {},
   "source": [
    "### 参考 : ターミナルの利用\n",
    "---\n",
    "Jupyterは、Webブラウザにターミナル画面を表示できます。<br />\n",
    "通常のターミナルと同様、このターミナルからLinuxコマンドを実行できます。\n",
    "\n",
    "[ターミナルを開く](02_JupyterOperationTips.ipynb#terminal_open) / [ターミナルを閉じる](02_JupyterOperationTips.ipynb#terminal_close)"
   ]
  },
  {
   "cell_type": "markdown",
   "metadata": {},
   "source": [
    "## 2. 教材をリリースする\n",
    "教材の準備が整ったら、リリースします。リリースすると教材はフォルダ「copybook」に格納され、以後、学生がこれをコピーして利用できるようになります。<br/>\n",
    "教材のリリース作業はnotebook [10_ReleaseMaterials.ipynb](10_ReleaseMaterials.ipynb) で行って下さい。"
   ]
  },
  {
   "cell_type": "markdown",
   "metadata": {},
   "source": [
    "## 3. 教材の動作を確認する\n",
    "リリースした教材が問題なく動作するかを確認します。<br/>\n",
    "動作確認は、動作確認用ユーザを追加して実施します。"
   ]
  },
  {
   "cell_type": "markdown",
   "metadata": {},
   "source": [
    "### 動作確認用ユーザを追加する\n",
    "---\n",
    "1. ダッシュボード画面右上の [Control Panel] ボタンをクリックします。Jupyterの管理画面が表示されます。\n",
    "2. Jupyter管理画面左上の [Add User] ボタンをクリックします。「Add User」ダイアログが表示されます。\n",
    "3. 動作確認用ユーザ名を入力して、[Add User] ボタンをクリックします。この時、[Admin] チェックボックスは「OFF」にして下さい。\n",
    "4. Jupyter管理画面に追加した動作確認用ユーザが表示されます。"
   ]
  },
  {
   "cell_type": "markdown",
   "metadata": {},
   "source": [
    "### 動作確認用ユーザのJupyterへアクセスする\n",
    "---\n",
    "1. Jupyter管理画面で、動作確認用ユーザの [start server] ボタンをクリックします。\n",
    "2. 動作確認用ユーザのサーバが起動すると、[access server] ボタンが表示されます。\n",
    "3. [access server] ボタンをクリックします。動作確認用ユーザのダッシュボード画面が表示されます。"
   ]
  },
  {
   "cell_type": "markdown",
   "metadata": {},
   "source": [
    "### 動作確認\n",
    "---\n",
    "1. 動作確認用ユーザのダッシュボード画面で、Filesタブ画面を開きます。\n",
    "2. 教材を取得して動作を確認します。教材の取得方法は、学生向けガイダンス（tools/00_GuidanceForStudent.ipynb)を参照して下さい。"
   ]
  },
  {
   "cell_type": "markdown",
   "metadata": {},
   "source": [
    "## 4. 課題の回答を回収する\n",
    "---\n",
    "講義で課題を設けた場合、学生が作成した回答ファイル（notebook、その他ファイル）を一括回収できます。<br/>\n",
    "回答の回収作業はnotebook [11_CollectAnswer.ipynb](11_CollectAnswer.ipynb) で行って下さい。"
   ]
  }
 ],
 "metadata": {
  "kernelspec": {
   "display_name": "Bash",
   "language": "bash",
   "name": "bash"
  },
  "language_info": {
   "codemirror_mode": "shell",
   "file_extension": ".sh",
   "mimetype": "text/x-sh",
   "name": "bash"
  }
 },
 "nbformat": 4,
 "nbformat_minor": 0
}
