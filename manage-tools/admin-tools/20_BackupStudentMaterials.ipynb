{
 "cells": [
  {
   "cell_type": "markdown",
   "metadata": {},
   "source": [
    "# 受講者の演習環境をバックアップします"
   ]
  },
  {
   "cell_type": "markdown",
   "metadata": {},
   "source": [
    "受講者の演習環境をバックアップしたい場合に使用します。バックアップするファイル/フォルダを指定してバックアップします。"
   ]
  },
  {
   "cell_type": "markdown",
   "metadata": {},
   "source": [
    "### 1. バックアップする受講者を指定します"
   ]
  },
  {
   "cell_type": "markdown",
   "metadata": {},
   "source": [
    "バックアップ対象の受講者をメールアドレスで指定します。<br/>\n",
    "バックアップファイルは、「メールアドレス_backup.tar.gz」のファイル名で、後述するバックアップの作業用フォルダに保存します。\n",
    "```\n",
    "STUDENTS=(\n",
    "student1@example.com\n",
    "student2@example.com\n",
    ")\n",
    "```\n",
    "\n",
    "**次のセルで受講者のメールアドレスを設定して、セルを実行して下さい**"
   ]
  },
  {
   "cell_type": "code",
   "execution_count": null,
   "metadata": {
    "collapsed": true
   },
   "outputs": [],
   "source": [
    "STUDENTS=(\n",
    ")"
   ]
  },
  {
   "cell_type": "markdown",
   "metadata": {},
   "source": [
    "### 2. バックアップの作業用フォルダを作成します"
   ]
  },
  {
   "cell_type": "markdown",
   "metadata": {},
   "source": [
    "* バックアップファイルを格納するフォルダを作成します。\n",
    "* フォルダを変更する場合は、BACKUP_WORK_DIR を変更して下さい。\n",
    "* フォルダが既存の場合、フォルダ配下のファイルは削除されます。必要があれば事前に退避して下さい。\n",
    "\n",
    "**次のセルを実行して、作業用フォルダを作成して下さい。**"
   ]
  },
  {
   "cell_type": "code",
   "execution_count": null,
   "metadata": {
    "collapsed": true
   },
   "outputs": [],
   "source": [
    "BACKUP_WORK_DIR=\"$HOME/backup\"\n",
    "    \n",
    "# create backup work directory\n",
    "[ -e $BACKUP_WORK_DIR ] || {\n",
    "    mkdir -p $BACKUP_WORK_DIR\n",
    "    chown $USER:$USER $BACKUP_WORK_DIR\n",
    "}\n",
    "        \n",
    "# creanlup backup work directory\n",
    "rm -rf $BACKUP_WORK_DIR/*"
   ]
  },
  {
   "cell_type": "markdown",
   "metadata": {},
   "source": [
    "### 3. バックアップするファイル/フォルダを指定します"
   ]
  },
  {
   "cell_type": "markdown",
   "metadata": {},
   "source": [
    "* 受講者のホームディレクトリ配下でバックアップ対象とするファイルおよびフォルダを、BACKUP_LIST にスペース区切りで列挙して下さい。\n",
    "```\n",
    "BACKUP_LIST=\"*.ipynb work\"\n",
    "```\n",
    "**次のセルでバックアップするファイル/フォルダを指定して、セルを実行して下さい。**"
   ]
  },
  {
   "cell_type": "code",
   "execution_count": null,
   "metadata": {
    "collapsed": true
   },
   "outputs": [],
   "source": [
    "BACKUP_LIST=\"\""
   ]
  },
  {
   "cell_type": "markdown",
   "metadata": {},
   "source": [
    "### 4. バックアップに含めないファイル/フォルダを指定します"
   ]
  },
  {
   "cell_type": "markdown",
   "metadata": {},
   "source": [
    "* バックアップに含めないファイルまたはフォルダがある場合は、EXCLUDES にスペース区切りで列挙して下さい。\n",
    "```\n",
    "EXCLUDES=\".ipynb_checkpoints\"\n",
    "```\n",
    "**次のセルで除外するファイル/フォルダを指定して、セルを実行して下さい。**"
   ]
  },
  {
   "cell_type": "code",
   "execution_count": null,
   "metadata": {
    "collapsed": true
   },
   "outputs": [],
   "source": [
    "EXCLUDES=\"\""
   ]
  },
  {
   "cell_type": "markdown",
   "metadata": {},
   "source": [
    "### 5. 次のセルを実行して、バックアップファイルを作成して下さい"
   ]
  },
  {
   "cell_type": "markdown",
   "metadata": {},
   "source": [
    "* バックアップファイルを生成します。\n",
    "* バックアップファイルは、上記で作成したバックアップフォルダに、受講者毎のファイルで格納されます。"
   ]
  },
  {
   "cell_type": "code",
   "execution_count": null,
   "metadata": {},
   "outputs": [],
   "source": [
    "# check setting\n",
    "do_backup=1\n",
    "if [ \"${#STUDENTS[@]}\" -eq 0 ]; then\n",
    "    echo \"STUDENTS is not set.\"\n",
    "    do_backup=0\n",
    "fi\n",
    "if [ \"$do_backup\" -eq 1 ] && [ ! -e \"$BACKUP_WORK_DIR\" ]; then\n",
    "    echo \"BACKUP_WORK_DIR is not created.\"\n",
    "    do_backup=0\n",
    "fi\n",
    "if [ \"$do_backup\" -eq 1 ] && [ -z \"$BACKUP_LIST\" ]; then\n",
    "    echo \"BACKUP_LIST is not set.\"\n",
    "    do_backup=0\n",
    "fi\n",
    "\n",
    "#  do backup\n",
    "if [ \"$do_backup\" -eq 1 ]; then\n",
    "    exclude_optin=\"\"\n",
    "    if [ -n \"$EXCLUDES\" ]; then\n",
    "        exlude_option=\"--exclude $EXCLUDES\"\n",
    "    fi\n",
    "    for mail in ${STUDENTS[@]}; do\n",
    "        userid=$(./ssh-auth-proxy << EOF\n",
    "php -r \"require_once '/var/www/php/functions.php'; echo get_username_from_mail_address('\"$mail\"');\"\n",
    "EOF\n",
    ")\n",
    "        user_dir=\"/jupyter/users/$userid\"\n",
    "        backup_file=\"$BACKUP_WORK_DIR/${userid}_backup.tar.gz\"\n",
    "        echo \"$userid: $mail\"\n",
    "        (cd $user_dir; tar cvfz $backup_file $BACKUP_LIST $exclude_option)\n",
    "    done\n",
    "fi\n",
    "\n",
    "echo\n",
    "echo \"... finished.\""
   ]
  }
 ],
 "metadata": {
  "kernelspec": {
   "display_name": "Bash",
   "language": "bash",
   "name": "bash"
  },
  "language_info": {
   "codemirror_mode": "shell",
   "file_extension": ".sh",
   "mimetype": "text/x-sh",
   "name": "bash"
  }
 },
 "nbformat": 4,
 "nbformat_minor": 2
}
