{
 "cells": [
  {
   "cell_type": "markdown",
   "metadata": {
    "deletable": true,
    "editable": true
   },
   "source": [
    "# 教材をバックアップします"
   ]
  },
  {
   "cell_type": "markdown",
   "metadata": {
    "deletable": true,
    "editable": true
   },
   "source": [
    "ホームディレクトリで作成した教材をバックアップします。"
   ]
  },
  {
   "cell_type": "markdown",
   "metadata": {
    "deletable": true,
    "editable": true
   },
   "source": [
    "### 1. バックアップするファイル/フォルダを指定します"
   ]
  },
  {
   "cell_type": "markdown",
   "metadata": {
    "deletable": true,
    "editable": true
   },
   "source": [
    "* ホームディレクトリ配下のバックアップするファイルおよびフォルダを、BACKUP_LIST に列挙して下さい。\n",
    "```\n",
    "BACKUP_LIST=\"textbook test.ipynb\"\n",
    "```\n",
    "* バックアップに含めないファイルまたはディレクトリがある場合は、EXCLUDES に列挙して下さい。\n",
    "  + デフォルトでは「.ipynb_checkpoints」を含めないように設定しています。\n",
    "```\n",
    "EXCLUDES=\".ipynb_checkpoints\"\n",
    "```"
   ]
  },
  {
   "cell_type": "code",
   "execution_count": null,
   "metadata": {
    "collapsed": true,
    "deletable": true,
    "editable": true
   },
   "outputs": [],
   "source": [
    "BACKUP_LIST=\"textbook *.ipynb\"\n",
    "EXCLUDES=\".ipynb_checkpoints\""
   ]
  },
  {
   "cell_type": "markdown",
   "metadata": {
    "deletable": true,
    "editable": true
   },
   "source": [
    "### 2. バックアップ名を指定します"
   ]
  },
  {
   "cell_type": "markdown",
   "metadata": {
    "deletable": true,
    "editable": true
   },
   "source": [
    "* バックパップの名前を BACKUP_NAME に設定して下さい。\n",
    "```\n",
    "BACKUP_NAME=\"course\"\n",
    "```\n",
    "* バックアップファイルは、「バックアップ名_backup.tar.gz」として保存します。"
   ]
  },
  {
   "cell_type": "code",
   "execution_count": null,
   "metadata": {
    "collapsed": true,
    "deletable": true,
    "editable": true
   },
   "outputs": [],
   "source": [
    "BACKUP_NAME=\"course\""
   ]
  },
  {
   "cell_type": "markdown",
   "metadata": {
    "deletable": true,
    "editable": true
   },
   "source": [
    "### 3. 次のセルを実行して、バックアップファイルを作成して下さい"
   ]
  },
  {
   "cell_type": "markdown",
   "metadata": {
    "deletable": true,
    "editable": true
   },
   "source": [
    "* バックアップファイルを生成します。\n",
    "* バックアップファイルは、ディレクトリ $HOME/backup に格納されます。"
   ]
  },
  {
   "cell_type": "code",
   "execution_count": null,
   "metadata": {
    "collapsed": false,
    "deletable": true,
    "editable": true
   },
   "outputs": [],
   "source": [
    "BACKUP_ARCHIVE_FILE=${BACKUP_NAME}_backup.tar.gz\n",
    "BACKUP_WORK_DIR=\"$HOME/backup\"\n",
    "\n",
    "# create backup work directory\n",
    "[ -e $BACKUP_WORK_DIR ] || {\n",
    "  sudo mkdir -p $BACKUP_WORK_DIR\n",
    "  sudo chown $USER:$USER $BACKUP_WORK_DIR\n",
    "}\n",
    "\n",
    "# creanlup backup work directory\n",
    "rm -rf $BACKUP_WORK_DIR/*\n",
    "\n",
    "# create the backup archive file which soters the file/directry by BACKUP_LIST\n",
    "(cd $HOME; tar cvfz $BACKUP_WORK_DIR/$BACKUP_ARCHIVE_FILE $BACKUP_LIST -C $HOME --exclude $EXCLUDES )"
   ]
  }
 ],
 "metadata": {
  "kernelspec": {
   "display_name": "Bash",
   "language": "bash",
   "name": "bash"
  },
  "language_info": {
   "codemirror_mode": "shell",
   "file_extension": ".sh",
   "mimetype": "text/x-sh",
   "name": "bash"
  }
 },
 "nbformat": 4,
 "nbformat_minor": 2
}
