{
 "cells": [
  {
   "cell_type": "markdown",
   "metadata": {},
   "source": [
    "# 作成した教材をバックアップします"
   ]
  },
  {
   "cell_type": "markdown",
   "metadata": {},
   "source": [
    "ホームディレクトリで作成した教材をバックアップします。"
   ]
  },
  {
   "cell_type": "markdown",
   "metadata": {},
   "source": [
    "### 1. バックアップの準備"
   ]
  },
  {
   "cell_type": "markdown",
   "metadata": {},
   "source": [
    "このNotebookを実行すると、ホームディレクトリ直下の下記のフォルダをバックアップファイルに保存します。<br/>\n",
    "**バックアップしたいファイル/フォルダは、下記のフォルダに移動してください。**\n",
    "* textbook\n",
    "  + 教材Notebookおよび教材Notebookから呼び出すスクリプトなど\n",
    "* draft\n",
    "  + 教材以外で保存して置きたいNotebook、その他ファイル\n",
    "\n",
    "注） バックアップファイルには「test」フォルダも保存されます。\n",
    "* 「test」フォルダは、この教材の自動テストに必要なファイルを保存するフォルダです。（初期状態で、テスト手順Notebookのテンプレートが配置されています）\n",
    "* **「test」フォルダにはその他のファイルを格納しないで下さい。**"
   ]
  },
  {
   "cell_type": "markdown",
   "metadata": {},
   "source": [
    "### 2. バックアップの作業用フォルダを作成します"
   ]
  },
  {
   "cell_type": "markdown",
   "metadata": {},
   "source": [
    "* バックアップファイルを格納するフォルダを作成します。\n",
    "* フォルダを変更する場合は、BACKUP_WORK_DIR を変更して下さい。\n",
    "* フォルダが既存の場合、フォルダ配下のファイルは削除されます。必要があれば事前に退避して下さい。\n",
    "\n",
    "**次のセルを実行して、作業用フォルダを作成して下さい。**"
   ]
  },
  {
   "cell_type": "code",
   "execution_count": null,
   "metadata": {
    "collapsed": true
   },
   "outputs": [],
   "source": [
    "BACKUP_WORK_DIR=\"$HOME/backup\"\n",
    "    \n",
    "# create backup work directory\n",
    "[ -e $BACKUP_WORK_DIR ] || {\n",
    "    mkdir -p $BACKUP_WORK_DIR\n",
    "    chown $USER:$USER $BACKUP_WORK_DIR\n",
    "}\n",
    "        \n",
    "# creanlup backup work directory\n",
    "rm -rf $BACKUP_WORK_DIR/*"
   ]
  },
  {
   "cell_type": "markdown",
   "metadata": {},
   "source": [
    "### 3. バックアップに含めないファイル/フォルダを指定します"
   ]
  },
  {
   "cell_type": "markdown",
   "metadata": {},
   "source": [
    "* バックアップファイルに保存したくないファイルまたはフォルダがある場合は、EXCLUDES にスペース区切りで列挙して下さい。\n",
    "  + 管理用Notebookフォルダ「admin_tools」はバックアップファイルに保存されません\n",
    "```\n",
    "EXCLUDES=\".ipynb_checkpoints\"\n",
    "```\n",
    "\n",
    "**次のセルで除外するファイル/フォルダを指定して、セルを実行して下さい。**"
   ]
  },
  {
   "cell_type": "code",
   "execution_count": null,
   "metadata": {
    "collapsed": true
   },
   "outputs": [],
   "source": [
    "EXCLUDES=\"\""
   ]
  },
  {
   "cell_type": "markdown",
   "metadata": {},
   "source": [
    "### 4. バックアップ名を指定します"
   ]
  },
  {
   "cell_type": "markdown",
   "metadata": {},
   "source": [
    "* バックパップの名前を BACKUP_NAME に設定して下さい。\n",
    "```\n",
    "BACKUP_NAME=\"course\"\n",
    "```\n",
    "* バックアップファイルは、「バックアップ名_backup.tar.gz」として保存します。\n",
    "\n",
    "**次のセルでバックアップ名を指定して、セルを実行して下さい。**"
   ]
  },
  {
   "cell_type": "code",
   "execution_count": null,
   "metadata": {
    "collapsed": true
   },
   "outputs": [],
   "source": [
    "BACKUP_NAME=\"\""
   ]
  },
  {
   "cell_type": "markdown",
   "metadata": {},
   "source": [
    "### 5. 次のセルを実行して、バックアップファイルを作成して下さい"
   ]
  },
  {
   "cell_type": "markdown",
   "metadata": {},
   "source": [
    "* バックアップファイルを生成します。\n",
    "* バックアップファイルは、上記で作成したバックアップフォルダに格納されます。"
   ]
  },
  {
   "cell_type": "code",
   "execution_count": null,
   "metadata": {
    "collapsed": true
   },
   "outputs": [],
   "source": [
    "BACKUP_ARCHIVE_FILE=${BACKUP_NAME}_backup.tar.gz\n",
    "\n",
    "# check setting\n",
    "do_backup=1\n",
    "[ -z \"$BACKUP_NAME\" ]  && {\n",
    "    echo \"BACKUP_NAME is not set.\"\n",
    "    do_backup=0\n",
    "}\n",
    "\n",
    "if [ \"$do_backup\" -eq 1 ]; then\n",
    "    # create the backup archive file which soters the file/directry by BACKUP_LIST\n",
    "    BACKUP_LIST=\"textbook draft test\"\n",
    "    EXCLUDES=\"$EXCLUDES admin_tools\"\n",
    "    (cd $HOME; tar cvfz $BACKUP_WORK_DIR/$BACKUP_ARCHIVE_FILE $BACKUP_LIST -C $HOME --exclude $EXCLUDES )\n",
    "fi\n",
    "\n",
    "echo\n",
    "echo \"... backup finished.\""
   ]
  },
  {
   "cell_type": "markdown",
   "metadata": {},
   "source": [
    "### 6. バックアップファイルを保存します"
   ]
  },
  {
   "cell_type": "markdown",
   "metadata": {},
   "source": [
    "* バックアップファイルを適切な保管場所へ転送して保存して下さい。\n",
    "* ローカルマシンに保存する場合は、下記の手順でダウンロードできます。\n",
    "  1. ブラウザのHome画面で、バックアップファイルを格納したフォルダを開きます。バックアップファイルが表示されます。\n",
    "  2. バックアップファイル名先頭のチェックボックスをクリックします。画面左上に操作ボタンが表示されます。\n",
    "  3. [Download]ボタンをクリックします。"
   ]
  }
 ],
 "metadata": {
  "kernelspec": {
   "display_name": "Bash",
   "language": "bash",
   "name": "bash"
  },
  "language_info": {
   "codemirror_mode": "shell",
   "file_extension": ".sh",
   "mimetype": "text/x-sh",
   "name": "bash"
  }
 },
 "nbformat": 4,
 "nbformat_minor": 2
}
