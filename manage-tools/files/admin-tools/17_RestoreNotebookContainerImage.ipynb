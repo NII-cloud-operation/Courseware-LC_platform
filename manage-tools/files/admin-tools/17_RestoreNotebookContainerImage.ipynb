{
 "cells": [
  {
   "cell_type": "markdown",
   "metadata": {
    "collapsed": true
   },
   "source": [
    "# My Server の Container イメージをリストアする\n",
    "<HR>"
   ]
  },
  {
   "cell_type": "markdown",
   "metadata": {},
   "source": [
    "My Server の Container イメージバックアップファルから、Container イメージを各Notebook Container ホストに配布し、配布したイメージで My Server が起動するように設定します。"
   ]
  },
  {
   "cell_type": "markdown",
   "metadata": {},
   "source": [
    "### 1. Container イメージバックアップファイルを格納するディレクトリを作成します"
   ]
  },
  {
   "cell_type": "markdown",
   "metadata": {},
   "source": [
    "* Container イメージのバックアップファルを格納するディレクトリです。\n",
    "* ディレクトリを変更する場合は、BACKUP_WORK_DIR を変更して下さい。"
   ]
  },
  {
   "cell_type": "code",
   "execution_count": null,
   "metadata": {
    "collapsed": true
   },
   "outputs": [],
   "source": [
    "BACKUP_WORK_DIR=\"$HOME/images\"\n",
    "\n",
    "# create image work directory\n",
    "[ -e $BACKUP_WORK_DIR ] || {\n",
    "  sudo mkdir -p \"$BACKUP_WORK_DIR\"\n",
    "  sudo chown $USER:$USER \"$BACKUP_WORK_DIR\"\n",
    "}"
   ]
  },
  {
   "cell_type": "markdown",
   "metadata": {},
   "source": [
    "### 2. Container イメージバックアップファイルを転送します"
   ]
  },
  {
   "cell_type": "markdown",
   "metadata": {},
   "source": [
    "* リストアする Container イメージバックアップファイルを、ディレクトリ $HOME/images に転送して下さい。\n",
    "* バックアップファルは tar 形式のファイルです。"
   ]
  },
  {
   "cell_type": "markdown",
   "metadata": {},
   "source": [
    "### 3. Container イメージバックアップファイル名を指定します"
   ]
  },
  {
   "cell_type": "markdown",
   "metadata": {},
   "source": [
    "* 次にセルで、ARCHIVE_FILE_NAME にリストアする Container イメージのバックアップファイル名を指定して下さい。\n",
    "```\n",
    "ARCHIVE_FILE_NAME=\"server-container-170513-065930.tar\"\n",
    "```\n",
    "* バックアップファイルは、上のセルで作成した BACKUP_WORK_DIR に格納されているものとします。"
   ]
  },
  {
   "cell_type": "code",
   "execution_count": null,
   "metadata": {
    "collapsed": true
   },
   "outputs": [],
   "source": [
    "ARCHIVE_FILE_NAME=\"\""
   ]
  },
  {
   "cell_type": "markdown",
   "metadata": {},
   "source": [
    "### 4. 次のセルを実行して、Containerイメージを配布して下さい"
   ]
  },
  {
   "cell_type": "markdown",
   "metadata": {},
   "source": [
    "#### 注意：このセルを実行すると、現在の「My Server」は配布したイメージで再起動されます。イメージ配布後は、下記の「参考: Containerイメージ配布後の操作」を実施して下さい。\n",
    "* 上記のセルで指定したバックアップファイルを元に、Container イメージを各 Notebook Container ホストに配布します。\n",
    "* 以後、この Courseware にログインした時に起動される My Server は、配布した Container イメージを利用して起動するように設定されます。\n",
    "* このセルで利用しているスクリプトはこちらを参照して下さい。\n",
    "  + [distribute-image](./distribute-image)"
   ]
  },
  {
   "cell_type": "code",
   "execution_count": null,
   "metadata": {},
   "outputs": [],
   "source": [
    "# check setting\n",
    "do_restore=1\n",
    "[ -e \"$BACKUP_WORK_DIR\" ] || {\n",
    "    echo \"BACKUP_WORK_DIR is not created.\"\n",
    "    do_restore=0\n",
    "}\n",
    "if [ \"$do_restore\" -eq 1 ] && [ ! -e \"$ARCHIVE_FILE_NAME\" ]; then\n",
    "    echo \"ARCHIVE_FILE_NAME is not found.\"\n",
    "    do_restore=0\n",
    "fi\n",
    "\n",
    "if [ \"$do_restore\" -eq 1 ]; then\n",
    "    # distribute the container image \n",
    "    ./distribute-image \"$ARCHIVE_FILE_NAME\" \"$BACKUP_WORK_DIR\"\n",
    "fi"
   ]
  },
  {
   "cell_type": "markdown",
   "metadata": {},
   "source": [
    "### 参考: Containerイメージ配布後の操作\n",
    "* ブラウザで開いている Notebook は全て閉じて下さい。\n",
    "* ブラウザで表示している「home」ページをリロードして下さい。\n",
    "* その後、必要な Notebookを「home」ページ から洗濯して実行して下さい。"
   ]
  }
 ],
 "metadata": {
  "kernelspec": {
   "display_name": "Bash",
   "language": "bash",
   "name": "bash"
  },
  "language_info": {
   "codemirror_mode": "shell",
   "file_extension": ".sh",
   "mimetype": "text/x-sh",
   "name": "bash"
  }
 },
 "nbformat": 4,
 "nbformat_minor": 2
}
