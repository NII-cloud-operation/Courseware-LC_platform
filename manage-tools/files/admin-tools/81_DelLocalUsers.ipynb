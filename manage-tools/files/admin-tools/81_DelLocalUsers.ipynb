{
 "cells": [
  {
   "cell_type": "markdown",
   "metadata": {},
   "source": [
    "# ローカルユーザを削除します\n",
    "<HR>"
   ]
  },
  {
   "cell_type": "markdown",
   "metadata": {},
   "source": [
    "ローカルユーザとして登録済みのユーザを削除します。<br/>\n",
    "\n",
    "次のセルで、下記のように削除するユーザのメールアドレスを配列「users」に設定して、セルを実行して下さい。\n",
    "```\n",
    "users=(\n",
    "user01@domain.com\n",
    "user02@domain.com\n",
    "user03@domain.com\n",
    ")\n",
    "```"
   ]
  },
  {
   "cell_type": "code",
   "execution_count": null,
   "metadata": {
    "collapsed": true
   },
   "outputs": [],
   "source": [
    "./ssh-auth-proxy << 'EOF'\n",
    "# 次のusersに、削除するユーザのメールアドレスを設定して下さい\n",
    "users=(\n",
    ")\n",
    "#\n",
    "\n",
    "for mail in ${users[@]}\n",
    "do\n",
    "    php /var/www/php/del-local-user.php $mail\n",
    "done \n",
    "EOF"
   ]
  }
 ],
 "metadata": {
  "kernelspec": {
   "display_name": "Bash",
   "language": "bash",
   "name": "bash"
  },
  "language_info": {
   "codemirror_mode": "shell",
   "file_extension": ".sh",
   "mimetype": "text/x-sh",
   "name": "bash"
  }
 },
 "nbformat": 4,
 "nbformat_minor": 2
}
