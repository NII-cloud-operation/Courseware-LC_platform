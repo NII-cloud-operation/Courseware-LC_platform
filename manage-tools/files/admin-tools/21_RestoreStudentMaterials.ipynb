{
 "cells": [
  {
   "cell_type": "markdown",
   "metadata": {},
   "source": [
    "# 受講者の演習環境バックアップをリストアします\n",
    "<HR>"
   ]
  },
  {
   "cell_type": "markdown",
   "metadata": {},
   "source": [
    "受講者の実行した演習環境バックアップファイルを展開して、指定された位置に配置します。"
   ]
  },
  {
   "cell_type": "markdown",
   "metadata": {},
   "source": [
    "### 1. リストアの作業用フォルダを作成します"
   ]
  },
  {
   "cell_type": "markdown",
   "metadata": {},
   "source": [
    "* リストアするバックアップファルを格納して、展開するための作業用フォルダです。\n",
    "* フォルダを変更する場合は、RESTORE_WORK_DIR を変更して下さい。\n",
    "* フォルダが既存の場合、フォルダ配下のファイルは削除されます。必要があれば事前に退避して下さい。\n",
    "\n",
    "**次のセルを実行して、作業用フォルダを作成して下さい。**"
   ]
  },
  {
   "cell_type": "code",
   "execution_count": null,
   "metadata": {
    "collapsed": true
   },
   "outputs": [],
   "source": [
    "RESTORE_WORK_DIR=\"$HOME/restore\"\n",
    "\n",
    "# create restore work directory\n",
    "[ -e $RESTORE_WORK_DIR ] || {\n",
    "  sudo mkdir -p $RESTORE_WORK_DIR\n",
    "  sudo chown $USER:$USER $RESTORE_WORK_DIR\n",
    "}\n",
    "\n",
    "# creanlup restore work directory\n",
    "rm -rf $RESTORE_WORK_DIR/*"
   ]
  },
  {
   "cell_type": "markdown",
   "metadata": {},
   "source": [
    "### 2. バックアップファイルを転送します"
   ]
  },
  {
   "cell_type": "markdown",
   "metadata": {},
   "source": [
    "* リストアする バックアップファイル(tar.gz 形式)を、上記で作成した作業用フォルダに転送して下さい。\n",
    "* バックアップファイルがローカルマシンにある場合は、下記の手順でアップロードできます。\n",
    "  1. ブラウザのHome画面で、リストア作業用フォルダを開きます。\n",
    "  2. 画面右上の[Upload]ボタンをクリックします。ファイル選択ダイアログが開きます。\n",
    "  3. ファイルを選択して[開く]ボタンをクリックします。 バックアップファイル名がリストされます。\n",
    "  4. バックアップファイル名の行の右端に表示される[Upload]ボタンをクリックします。"
   ]
  },
  {
   "cell_type": "markdown",
   "metadata": {},
   "source": [
    "### 3. バックアップファイル名を指定します"
   ]
  },
  {
   "cell_type": "markdown",
   "metadata": {},
   "source": [
    "* ARCHIVE_FILE_NAME にリストアするバックアップファイル名を指定して下さい。\n",
    "```\n",
    "ARCHIVE_FILE_NAME=\"course_backup.tar.gz\"\n",
    "```\n",
    "* バックアップファイルは、上のセルで作成した RESTORE_WORK_DIR に格納されているものとします。\n",
    "\n",
    "**次のセルでバックアップファイル名を指定して、セルを実行して下さい。**"
   ]
  },
  {
   "cell_type": "code",
   "execution_count": null,
   "metadata": {
    "collapsed": true
   },
   "outputs": [],
   "source": [
    "ARCHIVE_FILE_NAME=\"\""
   ]
  },
  {
   "cell_type": "markdown",
   "metadata": {},
   "source": [
    "### 4. バックアップファイルの内容を確認します"
   ]
  },
  {
   "cell_type": "markdown",
   "metadata": {},
   "source": [
    "* 次のセルを実行して、転送したバックアップファイルの内容を確認して下さい。\n",
    "* バックアップしたファイル/フォルダをどこに配置するかの設定に利用します。"
   ]
  },
  {
   "cell_type": "code",
   "execution_count": null,
   "metadata": {
    "collapsed": true
   },
   "outputs": [],
   "source": [
    "ARCHIVE_FILE_PATH=\"$HOME/restore/$ARCHIVE_FILE_NAME\"\n",
    "tar tvfz $ARCHIVE_FILE_PATH"
   ]
  },
  {
   "cell_type": "markdown",
   "metadata": {},
   "source": [
    "### 5. 展開したファイル/フォルダの配置先を指定します"
   ]
  },
  {
   "cell_type": "markdown",
   "metadata": {},
   "source": [
    "* バックアップファイルはホームディレクトリ配下に展開されます。\n",
    "* RESTORE_DICに、展開したファイル/フォルダを、ホームディレクトリのどこに配置するかを、「配置元  配置先」の形式で指定して下さい。\n",
    "```\n",
    "RESTORE_DIC=(\n",
    "\"配置するファイル/フォルダ   ホームディレクトリ配下の配置先\"\n",
    ")\n",
    "```\n",
    "例 : バックアップが下記の構成で\n",
    "```\n",
    "drwxr-xr-x ksasaki11b819/ksasaki11b819 0 2017-05-14 04:24 work/\n",
    "-rw-r--r-- ksasaki11b819/ksasaki11b819 436 2017-05-14 04:24 work/Untitled.ipynb\n",
    "-rw-r--r-- ksasaki11b819/ksasaki11b819 436 2017-05-14 04:24 work/Untitled1.ipynb\n",
    "-rw-r--r-- ksasaki11b819/ksasaki11b819 436 2017-05-14 04:25 test.ipynb\n",
    "```\n",
    " フォルダ「work」をホームディレクトリの「draft」へ、「test.ipynb」をホームディレクトリ直下へ配置する場合\n",
    "```\n",
    "RESTORE_DIC=(\n",
    "\"work draft\"\n",
    "\"'*.ipynb' .\"\n",
    ")\n",
    "```\n",
    "  + 配置先にホームディレクトリ直下を指定する場合は、\".\"を指定して下さい。\n",
    "  + 配置元に\"*\"を含む場合は、配置元をシングルクオートで括って下さい。\n",
    "\n",
    "**次のセルで配置先を設定して、セルを実行して下さい。**"
   ]
  },
  {
   "cell_type": "code",
   "execution_count": null,
   "metadata": {
    "collapsed": true
   },
   "outputs": [],
   "source": [
    "RESTORE_DIC=(\n",
    ")"
   ]
  },
  {
   "cell_type": "markdown",
   "metadata": {},
   "source": [
    "### 6. 次のセルを実行して、バックアップファイルを展開して下さい\n"
   ]
  },
  {
   "cell_type": "markdown",
   "metadata": {},
   "source": [
    "バックアップファイルを展開して、RESTORE_DIC で指定した位置に配置します。"
   ]
  },
  {
   "cell_type": "code",
   "execution_count": null,
   "metadata": {
    "collapsed": true
   },
   "outputs": [],
   "source": [
    "# check setting\n",
    "do_restore=1\n",
    "if [ \"$do_restore\" -eq 1 ] && [ ! -e \"$RESTORE_WORK_DIR\" ]; then\n",
    "    echo \"RESTORE_WORK_DIR is not created.\"\n",
    "    do_restore=0\n",
    "fi\n",
    "if [ \"$do_restore\" -eq 1 ] && [ -z \"$ARCHIVE_FILE_NAME\" ]; then\n",
    "    echo \"ARCHIVE_FILE_NAME is not set.\"\n",
    "    do_restore=0\n",
    "fi\n",
    "if [ \"$do_restore\" -eq 1 ] && [ \"${#RESTORE_DIC[@]}\" -eq 0 ]; then\n",
    "    echo \"RESTORE_DIC is not set.\"\n",
    "    do_restore=0\n",
    "fi\n",
    "\n",
    "if [ \"$do_restore\" -eq 1 ]; then\n",
    "    # expand the backup archive file \n",
    "    tar xvfz $ARCHIVE_FILE_PATH -C $RESTORE_WORK_DIR\n",
    "    chown -R $USER:$USER $RESTORE_WORK_DIR/*\n",
    "\n",
    "    # distribute the expanded file/directory according to the RESTORE_DIC\n",
    "    IFS=' '\n",
    "    for item in \"${RESTORE_DIC[@]}\"\n",
    "    do\n",
    "        set -- $item  \n",
    "       dst_path=$(echo $HOME/$2 | tr -d \"'\")\n",
    "       mkdir -p $dst_path\n",
    "       src_path=$(echo $RESTORE_WORK_DIR/$1 | tr -d \"'\")\n",
    "       echo \"Placement: $src_path -> $dst_path\"\n",
    "       cp -rp $src_path $dst_path\n",
    "    done\n",
    "\n",
    "    # delete restore work directory\n",
    "    rm -rf $RESTORE_WORK_DIR\n",
    "fi\n",
    "\n",
    "echo\n",
    "echo \"... finished.\""
   ]
  }
 ],
 "metadata": {
  "kernelspec": {
   "display_name": "Bash",
   "language": "bash",
   "name": "bash"
  },
  "language_info": {
   "codemirror_mode": "shell",
   "file_extension": ".sh",
   "mimetype": "text/x-sh",
   "name": "bash"
  }
 },
 "nbformat": 4,
 "nbformat_minor": 2
}
