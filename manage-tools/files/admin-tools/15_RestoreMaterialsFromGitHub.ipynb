{
 "cells": [
  {
   "cell_type": "markdown",
   "metadata": {},
   "source": [
    "# GitHubに保存した教材バックアップをリストアします\n",
    "<HR>"
   ]
  },
  {
   "cell_type": "markdown",
   "metadata": {},
   "source": [
    "GitHubリポジトリに保存してある教材バックアップをリストアします。"
   ]
  },
  {
   "cell_type": "markdown",
   "metadata": {},
   "source": [
    "### 1. リストアの準備"
   ]
  },
  {
   "cell_type": "markdown",
   "metadata": {},
   "source": [
    "このNotebookを実行すると、GitHubリポジトリの教材バックアップをホームディレクトリ直下に展開します。<br/>\n",
    "**リストアするには下記のフォルダ/ファイルは、存在しないか、または、フォルダが空の状態でなければなりません。**\n",
    "* textbook\n",
    "* info\n",
    "* draft\n",
    "* test\n",
    "* 任意でバックアップに追加したフォルダ/ファイル"
   ]
  },
  {
   "cell_type": "markdown",
   "metadata": {},
   "source": [
    "### 2. GitHubリポジトリへの接続情報を設定します"
   ]
  },
  {
   "cell_type": "markdown",
   "metadata": {},
   "source": [
    "バックアップ先のGitHubリポジトリへの接続情報を設定します。\n",
    "1. GitHubに接続するSSHキーを新たに登録する場合は、 [GitHubリポジトリの準備/2. SSHキーの登録](03_PrepareGitHub.ipynb#create_ssh_key)を使って作成して下さい。\n",
    "2. [GitHubリポジトリの準備/3. GitHubリポジトリ接続情報の設定](03_PrepareGitHub.ipynb#connect_github_repo)を使って、バックアップ用のGitHubリポジトリの接続情報を設定して下さい。"
   ]
  },
  {
   "cell_type": "markdown",
   "metadata": {},
   "source": [
    "### 3. 次のセルを実行して、教材バックアップを展開して下さい\n"
   ]
  },
  {
   "cell_type": "markdown",
   "metadata": {},
   "source": [
    "GitHubから教材バックアップを取得して、ホームディレクトリに展開します。"
   ]
  },
  {
   "cell_type": "code",
   "execution_count": null,
   "metadata": {
    "collapsed": true
   },
   "outputs": [],
   "source": [
    "# check setting\n",
    "do_restore=1\n",
    "cd $HOME\n",
    "[ -e \".git\" ] || {\n",
    "    echo \"GitHub connection information is not set.\"\n",
    "    do_restore=0\n",
    "}\n",
    "\n",
    "if [ \"$do_restore\" -eq 1 ]; then\n",
    "    git fetch origin\n",
    "    git merge origin/master\n",
    "fi\n",
    "\n",
    "echo\n",
    "echo \"... backup finished.\""
   ]
  }
 ],
 "metadata": {
  "kernelspec": {
   "display_name": "Bash",
   "language": "bash",
   "name": "bash"
  },
  "language_info": {
   "codemirror_mode": "shell",
   "file_extension": ".sh",
   "mimetype": "text/x-sh",
   "name": "bash"
  }
 },
 "nbformat": 4,
 "nbformat_minor": 2
}
