{
 "cells": [
  {
   "cell_type": "markdown",
   "metadata": {},
   "source": [
    "# 教材をリリースします\n",
    "<HR>"
   ]
  },
  {
   "cell_type": "markdown",
   "metadata": {
    "collapsed": true
   },
   "source": [
    "作成した演習Notebook、講義資料などの教材をリリースします。<br>\n",
    "リリースすると、各受講者のHome画面で教材を操作できるようになります。"
   ]
  },
  {
   "cell_type": "markdown",
   "metadata": {},
   "source": [
    "## 1. リリースの準備"
   ]
  },
  {
   "cell_type": "markdown",
   "metadata": {},
   "source": [
    "* リリースする教材をホームディレクトリ直下の下記のフォルダに格納してします。\n",
    "  * textbook : 演習Notebookおよび演習Notebook実行に関わるスクリプト、設定ファイルなどを格納します。\n",
    "  * info : 受講者全員が参照する資料などを格納します。"
   ]
  },
  {
   "cell_type": "markdown",
   "metadata": {},
   "source": [
    "## 2. 次のセルを実行して、教材をリリースして下さい。"
   ]
  },
  {
   "cell_type": "markdown",
   "metadata": {},
   "source": [
    " リリースすると、各受講者のJupyterのHome画面でフォルダ「textbook」「info」として参照できるようになリます。"
   ]
  },
  {
   "cell_type": "code",
   "execution_count": null,
   "metadata": {
    "collapsed": true,
    "deletable": false,
    "locked": true,
    "run_control": {
     "marked": false
    }
   },
   "outputs": [],
   "source": [
    "#!/bin/bash\n",
    "\n",
    "ROOT_DIR=/jupyter/admin/\n",
    "TEXTBOOK=textbook\n",
    "INFO=info\n",
    "SRC_TEXTBOOK=$HOME/$TEXTBOOK\n",
    "DST_TEXTBOOK=$ROOT_DIR/$TEXTBOOK\n",
    "SRC_INFO=$HOME/$INFO\n",
    "DST_INFO=$ROOT_DIR/$INFO\n",
    "EXCLUDE_OPTIONS=\"--exclude=.ipynb_checkpoints\"\n",
    "\n",
    "# release textbook \n",
    "sudo rsync -rltuv --delete $EXCLUDE_OPTIONS $SRC_TEXTBOOK/ $DST_TEXTBOOK\n",
    "sudo chmod 444 $DST_TEXTBOOK/*.ipynb\n",
    "\n",
    "# release info \n",
    "sudo rsync -rltuv --delete $EXCLUDE_OPTIONS $SRC_INFO/ $DST_INFO\n",
    "sudo chmod 444 $DST_INFO/*\n",
    "\n",
    "echo\n",
    "echo \"... release finished.\""
   ]
  }
 ],
 "metadata": {
  "kernelspec": {
   "display_name": "Bash",
   "language": "bash",
   "name": "bash"
  },
  "language_info": {
   "codemirror_mode": "shell",
   "file_extension": ".sh",
   "mimetype": "text/x-sh",
   "name": "bash"
  },
  "toc": {
   "colors": {
    "hover_highlight": "#DAA520",
    "navigate_num": "#000000",
    "navigate_text": "#333333",
    "running_highlight": "#FF0000",
    "selected_highlight": "#FFD700",
    "sidebar_border": "#EEEEEE",
    "wrapper_background": "#FFFFFF"
   },
   "moveMenuLeft": true,
   "nav_menu": {
    "height": "30px",
    "width": "252px"
   },
   "navigate_menu": true,
   "number_sections": true,
   "sideBar": true,
   "threshold": 4,
   "toc_cell": false,
   "toc_section_display": "block",
   "toc_window_display": false,
   "widenNotebook": false
  }
 },
 "nbformat": 4,
 "nbformat_minor": 1
}
