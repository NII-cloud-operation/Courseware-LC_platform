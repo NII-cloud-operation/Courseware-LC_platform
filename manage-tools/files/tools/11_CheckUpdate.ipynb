{
 "cells": [
  {
   "cell_type": "markdown",
   "metadata": {
    "hide_input": false,
    "run_control": {
     "marked": true
    }
   },
   "source": [
    "# 教材の更新確認"
   ]
  },
  {
   "cell_type": "markdown",
   "metadata": {},
   "source": [
    "HOMEとtextbookフォルダの教材を比較して、変更された教材ファイルの一覧を表示します。<br>\n",
    "数秒すると一覧が自動的に表示されます。表示されない場合は、次のセルを実行して下さい。<br/>\n",
    "* このセルで利用しているスクリプトはこちらを参照して下さい。\n",
    "  + [notebook-diff](./notebook-diff)"
   ]
  },
  {
   "cell_type": "code",
   "execution_count": null,
   "metadata": {
    "deletable": false,
    "hide_input": false,
    "init_cell": true,
    "locked": true,
    "run_control": {
     "marked": true
    },
    "scrolled": false
   },
   "outputs": [],
   "source": [
    "#!/bin/bash\n",
    "\n",
    "diffs=$( (./notebook-diff ~/textbook ~/) )\n",
    "if [ -z \"$diffs\" ]; then\n",
    "  echo notebookの変更はありません。\n",
    "else\n",
    "  echo notebookが変更されました。\n",
    "  echo \"$diffs\"\n",
    "fi"
   ]
  },
  {
   "cell_type": "markdown",
   "metadata": {
    "hide_input": false,
    "run_control": {
     "marked": true
    }
   },
   "source": [
    "# 教材ファイルの差分確認"
   ]
  },
  {
   "cell_type": "markdown",
   "metadata": {},
   "source": [
    "指定した教材フィアルの差分を出力します。<br/>\n",
    "notebookなどのテキストファイルの他、バイナリファイルも指定できます。\n",
    "\n",
    "次のセルを実行して下さい。\n",
    "* 'material_file'に比較する教材ファイル名を設定します。\n",
    "```\n",
    "material_file=notebook-1.ipynb\n",
    "```\n",
    "* このセルで利用しているスクリプトはこちらを参照して下さい。\n",
    "  + [notebook-diff](./notebook-diff)"
   ]
  },
  {
   "cell_type": "code",
   "execution_count": null,
   "metadata": {
    "collapsed": true,
    "deletable": false,
    "hide_input": false,
    "locked": true,
    "run_control": {
     "marked": true
    }
   },
   "outputs": [],
   "source": [
    "#!/bin/bash\n",
    "\n",
    "material_file=\n",
    "\n",
    "./notebook-diff ~/textbook/$material_file ~/$material_file"
   ]
  }
 ],
 "metadata": {
  "celltoolbar": "Initialisation Cell",
  "kernelspec": {
   "display_name": "Bash",
   "language": "bash",
   "name": "bash"
  },
  "language_info": {
   "codemirror_mode": "shell",
   "file_extension": ".sh",
   "mimetype": "text/x-sh",
   "name": "bash"
  },
  "toc": {
   "colors": {
    "hover_highlight": "#DAA520",
    "navigate_num": "#000000",
    "navigate_text": "#333333",
    "running_highlight": "#FF0000",
    "selected_highlight": "#FFD700",
    "sidebar_border": "#EEEEEE",
    "wrapper_background": "#FFFFFF"
   },
   "moveMenuLeft": true,
   "nav_menu": {
    "height": "48px",
    "width": "252px"
   },
   "navigate_menu": true,
   "number_sections": true,
   "sideBar": true,
   "threshold": 4,
   "toc_cell": false,
   "toc_number_sections": true,
   "toc_section_display": "block",
   "toc_threshold": 6,
   "toc_window_display": false,
   "widenNotebook": false
  }
 },
 "nbformat": 4,
 "nbformat_minor": 1
}
