{
 "cells": [
  {
   "cell_type": "markdown",
   "metadata": {
    "hide_input": false,
    "run_control": {
     "marked": true
    }
   },
   "source": [
    "# 教材の更新確認"
   ]
  },
  {
   "cell_type": "markdown",
   "metadata": {},
   "source": [
    "ホームとcopybookフォルダの教材を比較して、変更された教材ファイルの一覧を表示します。\n",
    "\n",
    "次のセルを実行して下さい。<br/>\n",
    "* このセルで利用しているスクリプトはこちらを参照して下さい。\n",
    "  + [notebook-diff](./notebook-diff)"
   ]
  },
  {
   "cell_type": "code",
   "execution_count": null,
   "metadata": {
    "collapsed": false,
    "deletable": false,
    "hide_input": false,
    "init_cell": true,
    "locked": true,
    "run_control": {
     "marked": true
    },
    "scrolled": false
   },
   "outputs": [],
   "source": [
    "#!/bin/bash\n",
    "\n",
    "diffs=$( (./notebook-diff ~/copybook ~/) )\n",
    "if [ -z \"$diffs\" ]; then\n",
    "  echo notebookの変更はありません。\n",
    "else\n",
    "  echo notebookが変更されました。\n",
    "  echo \"$diffs\"\n",
    "fi"
   ]
  },
  {
   "cell_type": "markdown",
   "metadata": {
    "hide_input": false,
    "run_control": {
     "marked": true
    }
   },
   "source": [
    "# 教材ファイルの差分確認"
   ]
  },
  {
   "cell_type": "markdown",
   "metadata": {},
   "source": [
    "指定した教材フィアルの差分を出力します。<br/>\n",
    "notebookなどのテキストファイルの他、バイナリファイルも指定できます。\n",
    "\n",
    "次のセルを実行して下さい。\n",
    "* 'material_file'に比較する教材ファイル名を設定します。\n",
    "```\n",
    "material_file=notebook-1.ipynb\n",
    "```\n",
    "* このセルで利用しているスクリプトはこちらを参照して下さい。\n",
    "  + [notebook-diff](./notebook-diff)"
   ]
  },
  {
   "cell_type": "code",
   "execution_count": null,
   "metadata": {
    "collapsed": false,
    "deletable": false,
    "hide_input": false,
    "locked": true,
    "run_control": {
     "marked": true
    }
   },
   "outputs": [],
   "source": [
    "#!/bin/bash\n",
    "\n",
    "material_file=\n",
    "\n",
    "./notebook-diff ~/copybook/$material_file ~/$material_file"
   ]
  }
 ],
 "metadata": {
  "celltoolbar": "Initialisation Cell",
  "kernelspec": {
   "display_name": "Bash",
   "language": "bash",
   "name": "bash"
  },
  "language_info": {
   "codemirror_mode": "shell",
   "file_extension": ".sh",
   "mimetype": "text/x-sh",
   "name": "bash"
  },
  "toc": {
   "toc_cell": false,
   "toc_number_sections": true,
   "toc_threshold": 6,
   "toc_window_display": false
  }
 },
 "nbformat": 4,
 "nbformat_minor": 0
}
