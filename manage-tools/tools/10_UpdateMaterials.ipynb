{
 "cells": [
  {
   "cell_type": "markdown",
   "metadata": {},
   "source": [
    "# 教材ファイルの一括更新"
   ]
  },
  {
   "cell_type": "markdown",
   "metadata": {},
   "source": [
    "ホームに配置されている教材を、copybookフォルダの教材で更新します。<br/>\n",
    "このnotebookは下記の場合に利用します。\n",
    "1. この教材を初めて利用する場合（ホームに教材が無い状態です）\n",
    "2. 教材に変更があった場合\n",
    "  * ホームに配置されている教材は、copybookフォルダの教材で全て置き換えられます。\n",
    "\n",
    "教材を更新するには、次のセルを実行して下さい。"
   ]
  },
  {
   "cell_type": "code",
   "execution_count": null,
   "metadata": {
    "collapsed": false
   },
   "outputs": [],
   "source": [
    "#!/bin/bash\n",
    "\n",
    "rsync -rvtl ~/copybook/ ~/"
   ]
  }
 ],
 "metadata": {
  "kernelspec": {
   "display_name": "Bash",
   "language": "bash",
   "name": "bash"
  },
  "language_info": {
   "codemirror_mode": "shell",
   "file_extension": ".sh",
   "mimetype": "text/x-sh",
   "name": "bash"
  }
 },
 "nbformat": 4,
 "nbformat_minor": 0
}
