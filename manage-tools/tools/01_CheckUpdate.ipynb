{
 "cells": [
  {
   "cell_type": "markdown",
   "metadata": {
    "hide_input": false,
    "run_control": {
     "marked": true
    }
   },
   "source": [
    "# notebookの更新確認"
   ]
  },
  {
   "cell_type": "markdown",
   "metadata": {},
   "source": [
    "ホームディレクトリとcopybookディレクトリのnotebookを比較して、変更されたnotebookの一覧を表示します。\n",
    "\n",
    "次のセルを実行して下さい。<br/>\n",
    "* このセルで利用しているスクリプトはこちらを参照して下さい。\n",
    "  + [notebook-diff](./notebook-diff)"
   ]
  },
  {
   "cell_type": "code",
   "execution_count": null,
   "metadata": {
    "collapsed": false,
    "deletable": false,
    "hide_input": false,
    "init_cell": true,
    "locked": true,
    "run_control": {
     "marked": true
    },
    "scrolled": false
   },
   "outputs": [],
   "source": [
    "#!/bin/bash\n",
    "\n",
    "diffs=$( (./notebook-diff ~/copybook ~/) )\n",
    "if [ -z \"$diffs\" ]; then\n",
    "  echo notebookの変更はありません。\n",
    "else\n",
    "  echo notebookが変更されました。\n",
    "  echo \"$diffs\"\n",
    "fi"
   ]
  },
  {
   "cell_type": "markdown",
   "metadata": {
    "hide_input": false,
    "run_control": {
     "marked": true
    }
   },
   "source": [
    "# notebookの差分"
   ]
  },
  {
   "cell_type": "markdown",
   "metadata": {},
   "source": [
    "指定したnotebookの差分を表示します。\n",
    "\n",
    "次のセルを実行して下さい。\n",
    "* 'notebook'に比較するnotebookファイル名を設定します。\n",
    "```\n",
    "notebook=notebook-1.ipynb\n",
    "```\n",
    "* このセルで利用しているスクリプトはこちらを参照して下さい。\n",
    "  + [notebook-diff](./notebook-diff)"
   ]
  },
  {
   "cell_type": "code",
   "execution_count": null,
   "metadata": {
    "collapsed": false,
    "deletable": false,
    "hide_input": false,
    "locked": true,
    "run_control": {
     "marked": true
    }
   },
   "outputs": [],
   "source": [
    "#!/bin/bash\n",
    "\n",
    "notebook=\n",
    "\n",
    "./notebook-diff ~/copybook/$notebook ~/$notebook"
   ]
  }
 ],
 "metadata": {
  "celltoolbar": "Initialisation Cell",
  "kernelspec": {
   "display_name": "Bash",
   "language": "bash",
   "name": "bash"
  },
  "language_info": {
   "codemirror_mode": "shell",
   "file_extension": ".sh",
   "mimetype": "text/x-sh",
   "name": "bash"
  },
  "toc": {
   "toc_cell": false,
   "toc_number_sections": true,
   "toc_threshold": 6,
   "toc_window_display": false
  }
 },
 "nbformat": 4,
 "nbformat_minor": 0
}
