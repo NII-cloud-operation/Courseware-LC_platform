{
 "cells": [
  {
   "cell_type": "markdown",
   "metadata": {
    "deletable": true,
    "editable": true
   },
   "source": [
    "# 教材の取得"
   ]
  },
  {
   "cell_type": "markdown",
   "metadata": {
    "deletable": true,
    "editable": true
   },
   "source": [
    "教材をtextbookフォルダから取得します。<br/>\n",
    "このnotebookは、この講座の教材を初めて利用する場合に利用します。\n",
    "取得した教材は、Homeディレクトリに配置されます。\n",
    "\n",
    "次のセルを実行して、教材を取得して下さい。"
   ]
  },
  {
   "cell_type": "code",
   "execution_count": null,
   "metadata": {
    "collapsed": false,
    "deletable": true,
    "editable": true
   },
   "outputs": [],
   "source": [
    "#!/bin/bash\n",
    "\n",
    "rsync -rvtl ~/textbook/ ~/"
   ]
  }
 ],
 "metadata": {
  "kernelspec": {
   "display_name": "Bash",
   "language": "bash",
   "name": "bash"
  },
  "language_info": {
   "codemirror_mode": "shell",
   "file_extension": ".sh",
   "mimetype": "text/x-sh",
   "name": "bash"
  }
 },
 "nbformat": 4,
 "nbformat_minor": 0
}
