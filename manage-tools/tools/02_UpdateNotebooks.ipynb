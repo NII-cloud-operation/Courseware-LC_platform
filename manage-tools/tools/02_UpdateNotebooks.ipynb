{
 "cells": [
  {
   "cell_type": "markdown",
   "metadata": {},
   "source": [
    "# notebookの一括更新"
   ]
  },
  {
   "cell_type": "markdown",
   "metadata": {},
   "source": [
    "ホームディレクトリのnotebookを、copybookディレクトリのnotebookで更新します。<br/>\n",
    "ホームディレクトリのnotebookで、copybookディレクトリのnotebookと同名のファイルはで全て置き換えられますので、保存したい場合は別名に変更して下さい。\n",
    "\n",
    "notebookを更新するには、次のセルを実行して下さい。"
   ]
  },
  {
   "cell_type": "code",
   "execution_count": null,
   "metadata": {
    "collapsed": false
   },
   "outputs": [],
   "source": [
    "#!/bin/bash\n",
    "\n",
    "rsync -rvtl --include='*.ipynb' ~/copybook/ ~/"
   ]
  }
 ],
 "metadata": {
  "kernelspec": {
   "display_name": "Bash",
   "language": "bash",
   "name": "bash"
  },
  "language_info": {
   "codemirror_mode": "shell",
   "file_extension": ".sh",
   "mimetype": "text/x-sh",
   "name": "bash"
  }
 },
 "nbformat": 4,
 "nbformat_minor": 0
}
