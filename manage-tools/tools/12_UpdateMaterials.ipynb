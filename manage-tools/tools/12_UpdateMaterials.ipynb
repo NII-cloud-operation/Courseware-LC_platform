{
 "cells": [
  {
   "cell_type": "markdown",
   "metadata": {},
   "source": [
    "# 教材の更新\n",
    "---"
   ]
  },
  {
   "cell_type": "markdown",
   "metadata": {},
   "source": [
    "Homeディレクトリに配置されている教材を、copybookフォルダの教材で更新します。<br/>\n",
    "\n",
    "はじめに、次のセルを実行して、更新されたファイルを確認して下さい。<br/>\n",
    "ファイル毎の更新内容を確認するには、[11_CheckUpdate.ipynb](11_CheckUpdate.ipynb)を利用して下さい。\n",
    "\n",
    "このセルで利用しているスクリプトはこちらを参照して下さい。\n",
    "  + [notebook-diff](./notebook-diff)"
   ]
  },
  {
   "cell_type": "code",
   "execution_count": null,
   "metadata": {
    "collapsed": false
   },
   "outputs": [],
   "source": [
    "#!/bin/bash\n",
    "\n",
    "diffs=$( (./notebook-diff ~/copybook ~/) )\n",
    "if [ -z \"$diffs\" ]; then\n",
    "  echo notebookの変更はありません。\n",
    "else\n",
    "  echo notebookが変更されました。\n",
    "  echo \"$diffs\"\n",
    "fi"
   ]
  },
  {
   "cell_type": "markdown",
   "metadata": {},
   "source": [
    "更新する教材が特定できたら、次のセルでcpコマンドを実行して下さい。<br/>\n",
    "copybookフォルダの教材をHomeディレクトリにコピーします。\n",
    "```\n",
    "cp -rp ~/copybook/notebook-1.ipynb ~/.\n",
    "```"
   ]
  },
  {
   "cell_type": "code",
   "execution_count": null,
   "metadata": {
    "collapsed": false
   },
   "outputs": [],
   "source": []
  }
 ],
 "metadata": {
  "kernelspec": {
   "display_name": "Bash",
   "language": "bash",
   "name": "bash"
  },
  "language_info": {
   "codemirror_mode": "shell",
   "file_extension": ".sh",
   "mimetype": "text/x-sh",
   "name": "bash"
  }
 },
 "nbformat": 4,
 "nbformat_minor": 0
}
