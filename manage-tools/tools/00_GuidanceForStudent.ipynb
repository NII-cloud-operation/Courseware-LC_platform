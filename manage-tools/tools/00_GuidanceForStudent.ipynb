{
 "cells": [
  {
   "cell_type": "markdown",
   "metadata": {},
   "source": [
    "---\n",
    "# 学生向けガイダンス\n",
    "---\n",
    "## はじめに\n",
    "---\n",
<<<<<<< HEAD
    "このガイダンスでは、Jupyterを利用した教材の利用方法について説明します。<br/>\n",
    "Jupyterの概要については、[こちら](./01_JupyterOverview.ipynb)をご覧下さい。\n"
=======
    "このガイダンスでは、Jupyterを利用した教材の利用方法について説明します。"
>>>>>>> temp1
   ]
  },
  {
   "cell_type": "markdown",
   "metadata": {},
   "source": [
<<<<<<< HEAD
    "## ホームの構成について\n",
    "---\n",
    "Jupyterにログインすると、Jupyterのダッシュボード画面のFilesタグが表示されます。FilesタグにはHomeディレクトリの内容が表示されています。<br/>\n",
    "Homeディレクトリ配下は以下のフォルダがあります。\n",
    "\n",
    "* copybook\n",
    "  + 演習に利用する教材（notebook、その他資料ファイル）\n",
    "* info\n",
    "  + 利用者全員に向けた周知事項などのファイル\n",
    "* private_info\n",
    "  + 利用者個人毎に異なる情報を格納"
=======
    "## 教材の利用手順\n",
    "---"
>>>>>>> temp1
   ]
  },
  {
   "cell_type": "markdown",
   "metadata": {},
   "source": [
<<<<<<< HEAD
    "## 1. この講座の教材を初めて利用する場合"
=======
    "# ⭐️ここに絵を置きたい"
>>>>>>> temp1
   ]
  },
  {
   "cell_type": "markdown",
   "metadata": {},
   "source": [
<<<<<<< HEAD
    "### 1.1 演習実施の流れ\n",
    "---\n",
    "教材はHomeディレクトリにあるフォルダ「copybook」に格納されています。これを入手して演習を実施します。<br/>\n",
    "課題が与えられた場合は、指示に従って回答ファイルを作成します。<br/>\n",
    "演習実施は概ね下記の流れになります。\n",
    "\n",
    "1. 教材の入手\n",
    "2. 演習の実施\n",
    "3. 課題の回答作成"
=======
    "## ホームの構成について\n",
    "---"
>>>>>>> temp1
   ]
  },
  {
   "cell_type": "markdown",
   "metadata": {},
<<<<<<< HEAD
   "source": [
    "![documentflowstudent-1](https://cloud.githubusercontent.com/assets/1156894/20742221/4f6a8550-b712-11e6-9305-5bb410aabcb5.png)"
   ]
=======
   "source": []
>>>>>>> temp1
  },
  {
   "cell_type": "markdown",
   "metadata": {},
<<<<<<< HEAD
   "source": [
    "### 1.2 教材を入手する\n",
    "---\n",
    "教材の入手は、notebook [10_UpdateMaterials.ipynb](./10_UpdateMaterials.ipynb) で行って下さい。<br/>\n",
    "入手した教材は、Homeディレクトリ直下に展開されます。"
   ]
=======
   "source": []
>>>>>>> temp1
  },
  {
   "cell_type": "markdown",
   "metadata": {},
   "source": [
<<<<<<< HEAD
    "### 1.3 演習の実施\n",
    "---\n",
    "指示に従って演習を実施して下さい。<br/>\n",
    "notebookの操作に関しては、[こちら](./02_JupyterOperationTips.ipynb)を参考にして下さい。"
=======
    "## 教材を入手する\n",
    "---"
>>>>>>> temp1
   ]
  },
  {
   "cell_type": "markdown",
   "metadata": {},
   "source": [
<<<<<<< HEAD
    "## 2. 教材が更新された場合\n",
    "特に講座が複数の日に跨る場合、教材が変更されるケースがあります。<br/>\n",
    "教材に変更があった場合は、こちらの手順で教材を更新して演習を実施します。"
=======
    "## 教材の更新を確認する\n",
    "---"
>>>>>>> temp1
   ]
  },
  {
   "cell_type": "markdown",
   "metadata": {},
   "source": [
<<<<<<< HEAD
    "### 2.1 教材が更新された場合の演習実施の流れ\n",
    "---\n",
    "教材の変更はHomeディレクトリにあるフォルダ「copybook」に格納されています。これを入手して演習を実施します。<br/>\n",
    "演習実施は概ね下記の流れになります。「3. 演習の実施」以降は「1. この講座の教材を初めて利用する場合」と同じです。\n",
    "\n",
    "1. 教材の更新を確認\n",
    "2. 教材を更新\n",
    "3. 演習の実施\n",
    "4. 課題の回答作成"
=======
    "## 教材を更新する\n",
    "---"
>>>>>>> temp1
   ]
  },
  {
   "cell_type": "markdown",
   "metadata": {},
<<<<<<< HEAD
   "source": [
    "![documentflowstudent-2](https://cloud.githubusercontent.com/assets/1156894/20742222/512e1f32-b712-11e6-8f92-f15ea95f93b6.png)"
   ]
=======
   "source": []
>>>>>>> temp1
  },
  {
   "cell_type": "markdown",
   "metadata": {},
<<<<<<< HEAD
   "source": [
    "### 2.2 教材の更新を確認する\n",
    "---\n",
    "教材が更新内容は、notebook [11_CheckUpdate.ipynb](./11_CheckUpdate.ipynb) で確認できます。このnotebookを利用して下さい。<br/>"
   ]
  },
  {
   "cell_type": "markdown",
   "metadata": {},
   "source": [
    "### 2.3 教材を更新する\n",
    "---\n",
    "copybookから更新された教材を取得して、Homeディレクトリ配下の教材を更新します。<br/>\n",
    "教材を更新するには、notebook [12_UpdateMaterials.ipynb](./12_UpdateMaterials.ipynb) を利用して下さい。<br/>"
   ]
=======
   "source": []
>>>>>>> temp1
  }
 ],
 "metadata": {
  "kernelspec": {
   "display_name": "Bash",
   "language": "bash",
   "name": "bash"
  },
  "language_info": {
   "codemirror_mode": "shell",
   "file_extension": ".sh",
   "mimetype": "text/x-sh",
   "name": "bash"
  }
 },
 "nbformat": 4,
 "nbformat_minor": 0
}
