{
 "cells": [
  {
   "cell_type": "markdown",
   "metadata": {},
   "source": [
    "# Courseware Environment Build Manual\n",
    "<HR>"
   ]
  },
  {
   "cell_type": "markdown",
   "metadata": {},
   "source": [
    "## 1. Build target machines"
   ]
  },
  {
   "cell_type": "markdown",
   "metadata": {},
   "source": [
    "Each instances should be a fresh install of Ubuntu 14.4 with an account with the user name \"ubuntu\". It should also have the same public ssh key saved at /home/ubuntu/.ssh/authorized_keys and /root/.ssh/authorized_keys.The corresponding private key should be saved in the build directory in a file named sshkey. <br>\n",
    "The commands apt-get update and apt-get upgrade should be run on each instance."
   ]
  },
  {
   "cell_type": "markdown",
   "metadata": {},
   "source": [
    "## 2. Clone jupyter-platform-dev repository\n",
    "```\n",
    "$ cd YOUR_CLONE_DIR\n",
    "$ git clone git@github.com:axsh/jupyter-platform-dev.git\n",
    "```"
   ]
  },
  {
   "cell_type": "markdown",
   "metadata": {},
   "source": [
    "## 3. Create the build directory\n",
    "```\n",
    "$ cd jupyter-platform-dev\n",
    "$ nodecount=3 ./ind-steps/build-jh-environment/toplevel-generic-build.sh-new /some/directory/path/buildname\n",
    "## ( The value for the environment variable nodecount could be 1, 2 or some other reasonable integer. )\n",
    "```"
   ]
  },
  {
   "cell_type": "markdown",
   "metadata": {},
   "source": [
    "## 4. Edit configuration files\n",
    "The ```toplevel-generic-build.sh-new``` script creates a folder structure with the following files and contents:\n",
    "```\n",
    "$ head $(find /some/directory/path/buildname -name datadir.conf)\n",
    "==> /some/directory/path/buildname/jhvmdir-node3/datadir.conf <==\n",
    "VMIP=192.168.999.999  # replace with the private IP used between instances\n",
    "publicip=180.123.999.999 # replace with IP used by this script\n",
    "publicport=22   # if needed, replace with the port used by this script\n",
    "\n",
    "==> /some/directory/path/buildname/jhvmdir-node2/datadir.conf <==\n",
    "VMIP=192.168.999.999  # replace with the private IP used between instances\n",
    "publicip=180.123.999.999 # replace with IP used by this script\n",
    "publicport=22   # if needed, replace with the port used by this script\n",
    "\n",
    "==> /some/directory/path/buildname/jhvmdir-node1/datadir.conf <==\n",
    "VMIP=192.168.999.999  # replace with the private IP used between instances\n",
    "publicip=180.123.999.999 # replace with IP used by this script\n",
    "publicport=22   # if needed, replace with the port used by this script\n",
    "\n",
    "==> /some/directory/path/buildname/jhvmdir/datadir.conf <==\n",
    "VMIP=192.168.999.999  # replace with the private IP used between instances\n",
    "publicip=180.123.999.999 # replace with IP used by this script\n",
    "publicport=22   # if needed, replace with the port used by this script\n",
    "\n",
    "==> /some/directory/path/buildname/jhvmdir-hub/datadir.conf <==\n",
    "VMIP=192.168.999.999  # replace with the private IP used between instances\n",
    "publicip=180.123.999.999 # replace with IP used by this script\n",
    "publicport=22   # if needed, replace with the port used by this script\n",
    "\n",
    "==> /some/directory/path/buildname/datadir.conf <==\n",
    "node_list=\"node1 node2 node3\"\n",
    "```"
   ]
  },
  {
   "cell_type": "markdown",
   "metadata": {},
   "source": [
    "The publicip variable value should be replaced by an IP address that can be used to ssh from the machine hosting the build directory to the corresponding instance. The publicport variable value should point to the ssh port, if port forwarding is used to reach the instance.<br>\n",
    "<br>\n",
    "VMIP should be a private IP address visible to all the other instances. ```ssh``` must be possible to port 22 on this address.\n"
   ]
  },
  {
   "cell_type": "markdown",
   "metadata": {},
   "source": [
    "## 5. Install Courseware\n",
    "Once all the instances exist and all the information has been edited into the datadir.conf files, the following will install JupyterHub, taking somewhat more than 60 minutes:\n",
    "```\n",
    "$ /path/to/just/a/little/disk/buildname/toplevel-generic-build.sh do\n",
    "```"
   ]
  },
  {
   "cell_type": "markdown",
   "metadata": {},
   "source": [
    "## 6. Check build\n",
    "The build can be checked by running:\n",
    "```\n",
    "$ /path/to/just/a/little/disk/buildname/toplevel-generic-build.sh check\n",
    "```"
   ]
  },
  {
   "cell_type": "markdown",
   "metadata": {},
   "source": [
    "## 7. Inisialize course\n",
    "$ ./bin/coursectl new COURSE_DIR MAIL_ADDRESS ACCESS_POINT\n",
    "```\n",
    "COURSE_DIR  : directory of the Courseware environmet each course. \n",
    "MAIL_ADDRESS : e-mail address of the course administrator (generally teacher of lecture).\n",
    "ACCESS_POINT: access point of the course. hostname or FQDN. \n",
    "```\n",
    "After execution, the login password of course administrator is displayed in the following format.\n",
    "```\n",
    "admin password: nQ8nv]E3wz\n",
    "```\n",
    "The course administrator can log in to the course with this email address and this password.\n"
   ]
  },
  {
   "cell_type": "markdown",
   "metadata": {},
   "source": [
    "## 8. Set port forwarding\n"
   ]
  },
  {
   "cell_type": "markdown",
   "metadata": {},
   "source": [
    "## 9. Access courses\n",
    "https://ACCESS_POINT/login\n",
    "```\n",
    "Email Address: e-mail address of the course administrator\n",
    "Password: Password returned by \"/ bin / coursectl new\"\n",
    "```"
   ]
  },
  {
   "cell_type": "markdown",
   "metadata": {},
   "source": [
    "<HR>\n",
    "# Appendix 1 ： Change/Reset password\n",
    "## Change password of the specified local user.\n",
    "``` $ YOUR_CLONE_DIR/bin/coursectl change-password COURSE_DIR USER_EMAIL NEW_PASSWORD```\n",
    "```\n",
    "COURSE_DIR  : directory of the Courseware environmet each course.\n",
    "USER_EMAIL : e-mail address of the local user to change the password.\n",
    "NEW_PASSWORD : new password. \n",
    "```\n",
    "## Rset password of the specified local user.\n",
    "``` $ YOUR_CLONE_DIR/bin/coursectl reset-password COURSE_DIR USER_EMAIL```\n",
    "```\n",
    "COURSE_DIR  : directory of the Courseware environmet each course.\n",
    "USER_EMAIL : e-mail address of the local user to change the password.\n",
    "\n",
    "output : A new password will be displayed.\n",
    "```\n"
   ]
  },
  {
   "cell_type": "markdown",
   "metadata": {},
   "source": [
    "# Appendix 2 ： ssh wrapper scripts\n",
    "If necessary, the ssh wrapper scripts for each instance can be modified directly. Normally this should only be necessary if special ssh parameters or workarounds are required.\n",
    "```\n",
    "$ cd /some/directory/path/buildname\n",
    "$ find -name ssh-shortcut.sh\n",
    "jhvmdir/ssh-shortcut.sh\n",
    "jhvmdir-hub/ssh-shortcut.sh\n",
    "jhvmdir-node3/ssh-shortcut.sh\n",
    "jhvmdir-node2/ssh-shortcut.sh\n",
    "jhvmdir-node1/ssh-shortcut.sh\n",
    "```"
   ]
  }
 ],
 "metadata": {
  "kernelspec": {
   "display_name": "Bash",
   "language": "bash",
   "name": "bash"
  },
  "language_info": {
   "codemirror_mode": "shell",
   "file_extension": ".sh",
   "mimetype": "text/x-sh",
   "name": "bash"
  }
 },
 "nbformat": 4,
 "nbformat_minor": 2
}
