{
 "cells": [
  {
   "cell_type": "markdown",
   "metadata": {},
   "source": [
    "# Courseware環境構築マニュアル（KVM標準構成）\n",
    "<HR>"
   ]
  },
  {
   "cell_type": "markdown",
   "metadata": {},
   "source": [
    "このマニュアルでは、同一マシン上に全てのKVMを配置して、Courseware環境をデプロイする手順を説明します。<br>\n",
    "JupyterServerのホストKVM（Nodeと呼びます）は、2台起動します。\n"
   ]
  },
  {
   "cell_type": "markdown",
   "metadata": {},
   "source": [
    "## 0. 前提条件\n",
    "下記のパッケージをインストールして下さい。\n",
    "* qemu-kvm\n",
    "* bridge-utils\n",
    "* ssh-keygen"
   ]
  },
  {
   "cell_type": "markdown",
   "metadata": {},
   "source": [
    "## 1. bredgeを作成する\n",
    "```\n",
    "$ sudo brctl addbr jhub-br0\n",
    "$ sudo ip link set jhub-br0 up\n",
    "$ sudo bash -c 'echo \"allow jhub-br0\" >>/etc/qemu-kvm/bridge.conf'\n",
    "```"
   ]
  },
  {
   "cell_type": "markdown",
   "metadata": {},
   "source": [
    "## 2. KVMイメージを配置する\n",
    "157.1.207.226:/mnt/build-resources/ubuntu-image-resources.tar.gz\n",
    "をホームディレクトリに転送して解凍して下さい。"
   ]
  },
  {
   "cell_type": "markdown",
   "metadata": {},
   "source": [
    "## 3. jupyter-platform-devをgit cloneする\n",
    "任意のディレクトリにjupyter-platform-devのcloneを作成します。\n",
    "```\n",
    "$ cd CLONE_DIR\n",
    "$ git clone git@github.com:axsh/jupyter-platform-dev.git\n",
    "```"
   ]
  },
  {
   "cell_type": "markdown",
   "metadata": {},
   "source": [
    "## 4. JupyterHubのビルドディレクトリ環境を作る\n",
    "BUILD_DIRには、任意のディレクトリ名を指定します。\n",
    "```\n",
    "$ cd CLONE_DIR/jupyter-platform-dev\n",
    "$ ./ind-steps/build-jh-environment/toplevel-kvm-tap-build.sh-new BUILD_DIR BRIDGE\n",
    "```"
   ]
  },
  {
   "cell_type": "markdown",
   "metadata": {},
   "source": [
    "## 5. デプロイするイメージをビルドする\n",
    "90分程度かかります。\n",
    "```\n",
    "$ cd BUILD_DIR\n",
    "$ time ./toplevel-kvm-tap-build.sh do > ../build.log 2>&1\n",
    "```"
   ]
  },
  {
   "cell_type": "markdown",
   "metadata": {},
   "source": [
    "## 6. ビルド状況を確認する\n",
    "```\n",
    "$ ./toplevel-kvm-tap-build.sh check\n",
    "```\n",
    "* 下記以外が（done) になっていることを確認します。\n",
    "  + ** Step: Install ansible build dependencies (NOT DONE)\n",
    "  + ** Step: Send \"sudo shutdown -h now\" via ssh (NOT DONE)\n",
    "  + ** Step: Wait for KVM to exit (NOT DONE)"
   ]
  },
  {
   "cell_type": "markdown",
   "metadata": {},
   "source": [
    "## 7. コース用スナップショットを作成する\n",
    "```\n",
    "$ cd CLONE_DIR/jupyter-platform-dev  \n",
    "$ ./ind-steps/build-jh-environment/snapshot-whole-environment.sh BUILD_DIR do guest\n",
    "```"
   ]
  },
  {
   "cell_type": "markdown",
   "metadata": {},
   "source": [
    "## 8. コース用のディレクトリ環境を作成して、スナップショットを配置する\n",
    "COURSE_DIRはコース毎のCourseware操作コマンドや環境に関わる情報を格納するディレクトリです。任意のディレクトリ名を指定します。\n",
    "\n",
    "$ ./bin/coursectl deploy BUILD_DIR COURSE_DIR BRIDGE\n",
    "\n",
    "\n",
    "実行終了時に、ポートフォワードに関する情報が表示されます。\n",
    "```\n",
    "** DOING STEP: Output port forwarding hint script\n",
    "inet 157.1.207.226\n",
    "sudo socat TCP-LISTEN:443,fork,reuseaddr TCP:127.0.0.1:6943\n",
    "```"
   ]
  },
  {
   "cell_type": "markdown",
   "metadata": {},
   "source": [
    "## 9. コースを初期化する\n",
    "$ ./bin/coursectl new COURSE_DIR MAIL_ADDRESS ACCESS_POINT\n",
    "```\n",
    "COURSE_DIR : コース毎のCouraseware環境ディレクトリ\n",
    "MAIL_ADDRESS : コース管理者（先生）のメールアドレスを指定します。このアドレスから内部で利用するユーザIDを生成します。\n",
    "ACCESS_POINT : このコースのアクセスポイントを指定します。Coursewareが稼働しているホストのホスト名またはFQDNを指定します。\n",
    "```\n",
    "実行完了後、下記のフォーマットでコース管理者のログインパスワードが表示されます。\n",
    "```\n",
    "admin password: nQ8nv]E3wz\n",
    "```\n",
    "コース管理者は、メールアドレスとこのパスワードでログインできます。\n"
   ]
  },
  {
   "cell_type": "markdown",
   "metadata": {},
   "source": [
    "## 10. ポートフォワードを設定する\n",
    "「8. コース用のディレクトリ環境を作成して、スナップショットを配置する」の手順で取得したポートフォワード情報にしたがって、ポートフォワードを設定します。"
   ]
  },
  {
   "cell_type": "markdown",
   "metadata": {},
   "source": [
    "## 11. コースにアクセスする\n",
    "https://ACCESS_POINT/login\n",
    "\n",
    "* Email Address: コース管理者のメールアドレス\n",
    "* Password: \"/bin/coursectl new\"実行時に返されたパスワード"
   ]
  },
  {
   "cell_type": "markdown",
   "metadata": {},
   "source": [
    "---\n",
    "# 補足：パスワードの変更・リセット方法\n",
    "「9. コースを初期化する」で設定されたコース管理者のパスワードは、coursectlコマンドで変更、リセットが可能です。"
   ]
  },
  {
   "cell_type": "markdown",
   "metadata": {},
   "source": [
    "## パスワードの変更\n",
    "```coursectl change-password```を実行します。\n",
    "\n",
    "```coursectl change-password COURSE_DIR USER_EMAIL NEW_PASSWORD```\n",
    "```\n",
    "COURSE_DIR  : コース毎のCouraseware環境ディレクトリ\n",
    "USER_EMAIL : パスワードを変更したいコース管理者（先生）または学生のメールアドレスを指定します。\n",
    "NEW_PASSWORD : 新しいパスワード \n",
    "```"
   ]
  },
  {
   "cell_type": "markdown",
   "metadata": {},
   "source": [
    "## パスワードのリセット\n",
    "```coursectl reset-password```を実行します。\n",
    "\n",
    "```coursectl reset-password COURSE_DIR USER_EMAIL```\n",
    "```\n",
    "COURSE_DIR  : コース毎のCouraseware環境ディレクトリ\n",
    "USER_EMAIL : パスワードをリセットしたいコース管理者（先生）または学生のメールアドレスを指定します。\n",
    "```\n",
    "コマンド実行後、新しいパスワードが出力されます。"
   ]
  }
 ],
 "metadata": {
  "kernelspec": {
   "display_name": "Bash",
   "language": "bash",
   "name": "bash"
  },
  "language_info": {
   "codemirror_mode": "shell",
   "file_extension": ".sh",
   "mimetype": "text/x-sh",
   "name": "bash"
  }
 },
 "nbformat": 4,
 "nbformat_minor": 2
}
