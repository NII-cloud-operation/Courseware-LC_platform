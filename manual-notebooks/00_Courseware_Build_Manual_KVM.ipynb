{
 "cells": [
  {
   "cell_type": "markdown",
   "metadata": {},
   "source": [
    "# Courseware環境構築マニュアル（KVM編）\n",
    "<HR>"
   ]
  },
  {
   "cell_type": "markdown",
   "metadata": {},
   "source": [
    "このマニュアルでは、同一ホスト上にKVMを配置してCourseware環境をデプロイする手順を説明します。<br>\n",
    "同一ホスト上に下記のKVMを配置します。\n",
    "\n",
    "  + Hub\n",
    "  + Node1\n",
    "  + Node2\n"
   ]
  },
  {
   "cell_type": "markdown",
   "metadata": {},
   "source": [
    "## 0. 前提条件\n",
    "下記のパッケージをインストールして下さい。\n",
    "* expect\n",
    "* qemu-kvm\n",
    "* bridge-utils\n",
    "* ssh-keygen"
   ]
  },
  {
   "cell_type": "markdown",
   "metadata": {},
   "source": [
    "## 1. bredgeを作成する\n",
    "```\n",
    "$ sudo brctl addbr jhub-br0\n",
    "$ sudo ip link set jhub-br0 up\n",
    "$ sudo bash -c 'echo \"allow jhub-br0\" >>/etc/qemu-kvm/bridge.conf'\n",
    "```"
   ]
  },
  {
   "cell_type": "markdown",
   "metadata": {},
   "source": [
    "## 2. KVMイメージを配置する\n",
    "**⭐️** 157.1.207.226:/mnt/build-resources/ubuntu-image-resources.tar.gz\n",
    "をホームディレクトリに転送して解凍して下さい。"
   ]
  },
  {
   "cell_type": "markdown",
   "metadata": {},
   "source": [
    "## 3. jupyter-platform-devをgit cloneする\n",
    "任意のディレクトリにjupyter-platform-devのcloneを作成します。\n",
    "```\n",
    "$ cd CLONE_DIR\n",
    "$ git clone git@github.com:axsh/jupyter-platform-dev.git\n",
    "```"
   ]
  },
  {
   "cell_type": "markdown",
   "metadata": {},
   "source": [
    "## 4. JupyterHubのビルドディレクトリ環境を作る\n",
    "BUILD_DIRには、任意のディレクトリ名を指定します。\n",
    "```\n",
    "$ cd CLONE_DIR/jupyter-platform-dev\n",
    "$ ./ind-steps/build-jh-environment/toplevel-kvm-tap-build.sh-new BUILD_DIR BRIDGE\n",
    "```"
   ]
  },
  {
   "cell_type": "markdown",
   "metadata": {},
   "source": [
    "## 5. デプロイするイメージをビルドする\n",
    "90分程度かかります。\n",
    "```\n",
    "$ cd BUILD_DIR\n",
    "$ time ./toplevel-kvm-tap-build.sh do > ../build.log 2>&1\n",
    "```"
   ]
  },
  {
   "cell_type": "markdown",
   "metadata": {},
   "source": [
    "## 6. ビルド状況を確認する\n",
    "```\n",
    "$ ./toplevel-kvm-tap-build.sh check\n",
    "```\n",
    "* 下記以外が（done) になっていることを確認します。\n",
    "  + ** Step: Install ansible build dependencies (NOT DONE)\n",
    "  + ** Step: Send \"sudo shutdown -h now\" via ssh (NOT DONE)\n",
    "  + ** Step: Wait for KVM to exit (NOT DONE)"
   ]
  },
  {
   "cell_type": "markdown",
   "metadata": {},
   "source": [
    "## 7. コース用スナップショットを作成する\n",
    "```\n",
    "$ cd CLONE_DIR/jupyter-platform-dev  \n",
    "$ ./ind-steps/build-jh-environment/snapshot-whole-environment.sh BUILD_DIR do guest\n",
    "```"
   ]
  },
  {
   "cell_type": "markdown",
   "metadata": {},
   "source": [
    "## 8. コース用のディレクトリ環境を作成して、スナップショットを配置する\n",
    "COURSE_DIRには任意のディレクトリ名を指定します。\n",
    "```\n",
    "$ ./bin/coursectl deploy BUILD_DIR COURSE_DIR BRIDGE\n",
    "```\n",
    "\n",
    "実行終了時に、ポートフォワードに関する情報が表示されます。\n",
    "```\n",
    "** DOING STEP: Output port forwarding hint script\n",
    "inet 157.1.207.226\n",
    "sudo socat TCP-LISTEN:443,fork,reuseaddr TCP:127.0.0.1:6990\n",
    "```"
   ]
  },
  {
   "cell_type": "markdown",
   "metadata": {},
   "source": [
    "## 9. コースを初期化する\n",
    "```\n",
    "$ ./bin/coursectl new COURSE_DIR MAIL_ADDRESS ACCESS_POINT\n",
    "```\n",
    "* MAIL_ADDRESSにはコース管理者（先生）のメールアドレスを指定します。このアドレスから内部で利用するユーザIDを生成します。\n",
    "* ACCESS_POINTには、このコースのアクセスポイントを指定します。Coursewareが稼働しているホストのホスト名またはFQDNを指定します。\n",
    "* 実行完了後、下記のフォーマットでコース管理者のログインパスワードが表示されます。メールで直接送付する設定も用意しようと考えています。\n",
    "  + admin password: nQ8nv]E3wz\n",
    "* コース管理者は、メールアドレスとこのパスワードでログインできます。"
   ]
  },
  {
   "cell_type": "markdown",
   "metadata": {},
   "source": [
    "## 10. ポートフォワードを設定する\n",
    "「8. コース用のディレクトリ環境を作成して、スナップショットを配置する」の手順で取得したポートフォワード情報にしたがって、ポートフォワードを設定します。"
   ]
  },
  {
   "cell_type": "markdown",
   "metadata": {},
   "source": [
    "## 11. コースにアクセスする\n",
    "https://ACCESS_POINT/login\n",
    "\n",
    "* Email Address: コース管理者のメールアドレス\n",
    "* Password: \"/bin/coursectl new\"実行時に返されたパスワード"
   ]
  }
 ],
 "metadata": {
  "kernelspec": {
   "display_name": "Bash",
   "language": "bash",
   "name": "bash"
  },
  "language_info": {
   "codemirror_mode": "shell",
   "file_extension": ".sh",
   "mimetype": "text/x-sh",
   "name": "bash"
  }
 },
 "nbformat": 4,
 "nbformat_minor": 2
}
