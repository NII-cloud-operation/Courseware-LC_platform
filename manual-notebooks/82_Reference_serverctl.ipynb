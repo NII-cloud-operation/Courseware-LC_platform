{
 "cells": [
  {
   "cell_type": "markdown",
   "metadata": {},
   "source": [
    "# Command Reference - serverctl\n",
    "<HR>"
   ]
  },
  {
   "cell_type": "markdown",
   "metadata": {},
   "source": [
    "```serverctl``` is a command to operate Jupyter Server."
   ]
  },
  {
   "cell_type": "markdown",
   "metadata": {},
   "source": [
    "<HR>\n",
    "## Operation of Jupyter Server, the information acquisition"
   ]
  },
  {
   "cell_type": "markdown",
   "metadata": {},
   "source": [
    "## List Jupyter servers\n",
    "```serverctl list COURSE_DIR```\n",
    "```\n",
    "COURSE_DIR: directory of the course environtment.\n",
    "```"
   ]
  },
  {
   "cell_type": "markdown",
   "metadata": {},
   "source": [
    "## Start Jupyter server \n",
    "```serverctl start COURSE_DIR SERVER_NAME```\n",
    "```\n",
    "COURSE_DIR: directory of the course environtment.\n",
    "SERVER_NAME: name of Jupyter server to start.\n",
    "```"
   ]
  },
  {
   "cell_type": "markdown",
   "metadata": {},
   "source": [
    "## Stop Jupyter server\n",
    "```serverctl stop COURSE_DIR SERVER_NAME```\n",
    "```\n",
    "COURSE_DIR: directory of the course environtment.\n",
    "SERVER_NAME: name of Jupyter server to stop.\n",
    "```"
   ]
  },
  {
   "cell_type": "markdown",
   "metadata": {},
   "source": [
    "## Give sudo powers to the Jupyter server\n",
    "```serverctl allow-sudo COURSE_DIR SERVER_NAME```\n",
    "```\n",
    "COURSE_DIR: directory of the course environtment.\n",
    "SERVER_NAME: noame of Jupyter server to allow sudo.\n",
    "```"
   ]
  },
  {
   "cell_type": "markdown",
   "metadata": {},
   "source": [
    "<HR>\n",
    "## Operation of the Jupyter Server image"
   ]
  },
  {
   "cell_type": "markdown",
   "metadata": {},
   "source": [
    "## List Jupyter server images\n",
    "```serverctl image-list COURSE_DIR```\n",
    "```\n",
    "COURSE_DIR: directory of the course environtment.\n",
    "```"
   ]
  },
  {
   "cell_type": "markdown",
   "metadata": {},
   "source": [
    "## Create Jupyter server image and save archive file.\n",
    "```serverctl image-create COURSE_DIR SERVER_NAME IMAGE_NAME [IMAGE_DIR]```\n",
    "```\n",
    "COURSE_DIR: directory of the course environtment.\n",
    "SERVER_NAME: name of Jupyter server to stop.\n",
    "IMAGE_NAME: name of image. it becomes an archive file name.\n",
    "IMAGE_DIR: path of archive file directory. if omit it, current diretory.\n",
    "```"
   ]
  },
  {
   "cell_type": "markdown",
   "metadata": {},
   "source": [
    "## Distribute Jupyter server image \n",
    "```serverctl image-distribute COURSE_DIR IMAGE_NAME [IMAGE_DIR]```\n",
    " ```\n",
    "COURSE_DIR: directory of the course environtment.\n",
    "IMAGE_NAME: name of image. it becomes an archive file name.\n",
    "IMAGE_DIR: path of archive file directory. if omit it, current diretory.\n",
    "```"
   ]
  },
  {
   "cell_type": "markdown",
   "metadata": {},
   "source": [
    "## Set image to use for start of Jupyter server\n",
    "```serverctl image-set COURSE_DIR IMAGE_NAME```\n",
    "```\n",
    "COURSE_DIR: directory of the course environtment.\n",
    "IMAGE_NAME: name of image. it becomes an archive file name.\n",
    "```"
   ]
  }
 ],
 "metadata": {
  "kernelspec": {
   "display_name": "Bash",
   "language": "bash",
   "name": "bash"
  },
  "language_info": {
   "codemirror_mode": "shell",
   "file_extension": ".sh",
   "mimetype": "text/x-sh",
   "name": "bash"
  }
 },
 "nbformat": 4,
 "nbformat_minor": 2
}
