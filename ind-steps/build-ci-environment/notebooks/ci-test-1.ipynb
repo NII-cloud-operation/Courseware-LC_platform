{
 "cells": [
  {
   "cell_type": "markdown",
   "metadata": {},
   "source": [
    "## Read in config file and do basic checks."
   ]
  },
  {
   "cell_type": "code",
   "execution_count": null,
   "metadata": {
    "collapsed": false
   },
   "outputs": [],
   "source": [
    "report_problem()\n",
    "{\n",
    "    date | tee -a /tmp/debuglog\n",
    "    echo \"$*\" | tee -a /tmp/debuglog\n",
    "    exit 1 # exit the bash kernel (which does not exit nbconvert :-( ))\n",
    "}\n",
    "\n",
    "source ~/jh_test.config || report_problem \"problem reading config file\"\n",
    "\n",
    "check_ssh()\n",
    "{\n",
    "    [ \"$(echo $SSHCMD)\" != \"\" ] || report_problem \"SSHCMD is not set\"\n",
    "    [ \"$($SSHCMD echo OK)\" = \"OK\" ] || report_problem \"SSHCMD ($SSHCMD) did not connect successfully\"\n",
    "}\n",
    "\n",
    "check_targetdir()\n",
    "{\n",
    "    $SSHCMD \"[ -d '$TARGETDIR' ]\" || report_problem \"The directory ($TARGETDIR) does not exist on the server\"\n",
    "}\n",
    "\n",
    "check_bridge()\n",
    "{\n",
    "    [ \"$(echo $BRIDGENAME)\" != \"\" ] || report_problem \"BRIDGENAME is not set\"\n",
    "    [[ \"$($SSHCMD /sbin/brctl show \"$BRIDGENAME\" 2>&1 1>/dev/null)\" == \"\" ]] || report_problem \"bridge ($BRIDGENAME) not found\"\n",
    "}\n",
    "\n",
    "check_ssh\n",
    "check_targetdir\n",
    "check_bridge\n",
    "echo \"Config checks OK\""
   ]
  },
  {
   "cell_type": "markdown",
   "metadata": {},
   "source": [
    "## Run the next cell to copy the build repository to the target directory.\n"
   ]
  },
  {
   "cell_type": "code",
   "execution_count": null,
   "metadata": {
    "collapsed": false,
    "scrolled": true
   },
   "outputs": [],
   "source": [
    "$SSHCMD rm -fr \"'$TARGETDIR/installdir'\"\n",
    "\n",
    "if $SSHCMD [ -d \"$TARGETDIR/jupyter-platform-dev\" ]; then\n",
    "    echo \"Repository already copied.  Its status is as follows:\"\n",
    "    $SSHCMD <<EOF\n",
    "        set -e\n",
    "        cd \"$TARGETDIR/jupyter-platform-dev\"\n",
    "        git status\n",
    "EOF\n",
    "else\n",
    "    echo \"Copying the repository...\"\n",
    "    cd ~/\n",
    "    tar c jupyter-platform-dev/.git | $SSHCMD tar x -C \"$TARGETDIR\"\n",
    "    $SSHCMD <<EOF\n",
    "        set -e\n",
    "        cd \"$TARGETDIR/jupyter-platform-dev\"\n",
    "        git reset --hard\n",
    "        echo \"Repository status is as follows:\"\n",
    "        git status\n",
    "EOF\n",
    "fi"
   ]
  },
  {
   "cell_type": "markdown",
   "metadata": {},
   "source": [
    "## Run next cell to set up the install directory:\n",
    "This cell will run quickly, finishing within a few seconds."
   ]
  },
  {
   "cell_type": "code",
   "execution_count": null,
   "metadata": {
    "collapsed": false
   },
   "outputs": [],
   "source": [
    "script=\"$TARGETDIR/jupyter-platform-dev/ind-steps/build-jh-environment/toplevel-kvm-tap-build.sh-new\"\n",
    "\n",
    "$SSHCMD <<EOF\n",
    "PATH=/sbin:$PATH\n",
    "\"$script\" \"$TARGETDIR/installdir\" \"$BRIDGENAME\"\n",
    "EOF"
   ]
  },
  {
   "cell_type": "markdown",
   "metadata": {},
   "source": [
    "## Run the next cell to do the actual build.\n",
    "It should take about 90 minutes to run."
   ]
  },
  {
   "cell_type": "code",
   "execution_count": null,
   "metadata": {
    "collapsed": false
   },
   "outputs": [],
   "source": [
    "# $SSHCMD time \"$TARGETDIR/installdir/toplevel-kvm-tap-build.sh\" do"
   ]
  },
  {
   "cell_type": "markdown",
   "metadata": {},
   "source": [
    "## Run the next cell to check the status of each build step.\n",
    "It should take about 20 seconds to run."
   ]
  },
  {
   "cell_type": "code",
   "execution_count": null,
   "metadata": {
    "collapsed": false
   },
   "outputs": [],
   "source": [
    "$SSHCMD \"$TARGETDIR/installdir/toplevel-kvm-tap-build.sh\" check"
   ]
  }
 ],
 "metadata": {
  "kernelspec": {
   "display_name": "Bash",
   "language": "bash",
   "name": "bash"
  },
  "language_info": {
   "codemirror_mode": "shell",
   "file_extension": ".sh",
   "mimetype": "text/x-sh",
   "name": "bash"
  }
 },
 "nbformat": 4,
 "nbformat_minor": 2
}
