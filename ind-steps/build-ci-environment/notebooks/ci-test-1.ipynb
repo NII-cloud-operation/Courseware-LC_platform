{
 "cells": [
  {
   "cell_type": "markdown",
   "metadata": {},
   "source": [
    "## Run this cell and copy the output into a shell terminal on the target server.  It will append an ssh public key the authorized_keys file for the user of that shell terminal:"
   ]
  },
  {
   "cell_type": "code",
   "execution_count": null,
   "metadata": {
    "collapsed": false,
    "scrolled": true
   },
   "outputs": [],
   "source": [
    "echo \"cat >>~/.ssh/authorized_keys <<EOF\"\n",
    "cat ~/.ssh/id_rsa.pub\n",
    "echo \"EOF\""
   ]
  },
  {
   "cell_type": "markdown",
   "metadata": {},
   "source": [
    "## Edit the ssh command in the following cell so that it will log into the target host:"
   ]
  },
  {
   "cell_type": "code",
   "execution_count": null,
   "metadata": {
    "collapsed": true
   },
   "outputs": [],
   "source": [
    "extra=\"-q -o StrictHostKeyChecking=no -o UserKnownHostsFile=/dev/null\"\n",
    "SSHCMD=\"ssh edit-this@10.0.3.2 $extra\""
   ]
  },
  {
   "cell_type": "markdown",
   "metadata": {},
   "source": [
    "## Run this cell to test that the key was successfully appended ssh information is correct:"
   ]
  },
  {
   "cell_type": "code",
   "execution_count": null,
   "metadata": {
    "collapsed": false
   },
   "outputs": [],
   "source": [
    "$SSHCMD hostname || echo \"ssh is not set up correctly\""
   ]
  },
  {
   "cell_type": "markdown",
   "metadata": {},
   "source": [
    "## Edit the target directory on the target Server\n",
    "All files for the build will go in this directory.  The repository will be copied to \\$TARGETDIR/jupyter-platform-dev/.\n",
    "The actual build directory will be at \\$TARGETDIR/installdir/."
   ]
  },
  {
   "cell_type": "code",
   "execution_count": null,
   "metadata": {
    "collapsed": true
   },
   "outputs": [],
   "source": [
    "TARGETDIR=/edit/this/path"
   ]
  },
  {
   "cell_type": "markdown",
   "metadata": {},
   "source": [
    "## Run the next cell to copy the build repository to the target directory.\n"
   ]
  },
  {
   "cell_type": "code",
   "execution_count": null,
   "metadata": {
    "collapsed": false,
    "scrolled": true
   },
   "outputs": [],
   "source": [
    "$SSHCMD mkdir -p \"$TARGETDIR\"\n",
    "if $SSHCMD [ -d \"$TARGETDIR/jupyter-platform-dev\" ]; then\n",
    "    echo \"Repository already copied.  Its status is as follows:\"\n",
    "    $SSHCMD <<EOF\n",
    "        set -e\n",
    "        cd \"$TARGETDIR/jupyter-platform-dev\"\n",
    "        git status\n",
    "EOF\n",
    "else\n",
    "    echo \"Copying the repository...\"\n",
    "    cd ~/\n",
    "    tar c jupyter-platform-dev/.git | $SSHCMD tar x -C \"$TARGETDIR\"\n",
    "    $SSHCMD <<EOF\n",
    "        set -e\n",
    "        cd \"$TARGETDIR/jupyter-platform-dev\"\n",
    "        git reset --hard\n",
    "        echo \"Repository status is as follows:\"\n",
    "        git status\n",
    "EOF\n",
    "fi"
   ]
  },
  {
   "cell_type": "markdown",
   "metadata": {},
   "source": [
    "## Run next cell to set up the install directory:\n",
    "This cell will run quickly, finishing within a few seconds."
   ]
  },
  {
   "cell_type": "code",
   "execution_count": null,
   "metadata": {
    "collapsed": false
   },
   "outputs": [],
   "source": [
    "script=\"$TARGETDIR/jupyter-platform-dev/ind-steps/build-jh-environment/toplevel-kvm-build.sh-new\" \n",
    "\n",
    "$SSHCMD \"$script\" \"$TARGETDIR/installdir\""
   ]
  },
  {
   "cell_type": "markdown",
   "metadata": {},
   "source": [
    "## Run the next cell to do the actual build.\n",
    "It should take about 90 minutes to run."
   ]
  },
  {
   "cell_type": "code",
   "execution_count": null,
   "metadata": {
    "collapsed": false
   },
   "outputs": [],
   "source": [
    "$SSHCMD time \"$TARGETDIR/installdir/toplevel-kvm-build.sh\" do"
   ]
  },
  {
   "cell_type": "markdown",
   "metadata": {},
   "source": [
    "## Run the next cell to check the status of each build step.\n",
    "It should take about 20 seconds to run."
   ]
  },
  {
   "cell_type": "code",
   "execution_count": null,
   "metadata": {
    "collapsed": false
   },
   "outputs": [],
   "source": [
    "$SSHCMD \"$TARGETDIR/installdir/toplevel-kvm-build.sh\" check"
   ]
  }
 ],
 "metadata": {
  "kernelspec": {
   "display_name": "Bash",
   "language": "bash",
   "name": "bash"
  },
  "language_info": {
   "codemirror_mode": "shell",
   "file_extension": ".sh",
   "mimetype": "text/x-sh",
   "name": "bash"
  }
 },
 "nbformat": 4,
 "nbformat_minor": 2
}
