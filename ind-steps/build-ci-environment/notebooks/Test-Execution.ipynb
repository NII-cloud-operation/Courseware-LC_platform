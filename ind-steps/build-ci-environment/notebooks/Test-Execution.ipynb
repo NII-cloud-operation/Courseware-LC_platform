{
 "cells": [
  {
   "cell_type": "markdown",
   "metadata": {},
   "source": [
    "## Edit the bash array in the next cell and run it to choose which notebook-based tests to run:"
   ]
  },
  {
   "cell_type": "code",
   "execution_count": null,
   "metadata": {
    "collapsed": true
   },
   "outputs": [],
   "source": [
    "test_items=(\n",
    "    ci-check.ipynb\n",
    ")"
   ]
  },
  {
   "cell_type": "markdown",
   "metadata": {},
   "source": [
    "## Run next cell to run each test off-screen:"
   ]
  },
  {
   "cell_type": "code",
   "execution_count": null,
   "metadata": {
    "collapsed": false
   },
   "outputs": [],
   "source": [
    "for atest in \"${test_items[@]}\"; do\n",
    "    if [ -f \"$atest\" ] && \\\n",
    "        rm -f \"$atest.out\" && \\\n",
    "        cp \"$atest\" \"$atest.out\" ; then\n",
    "            echo \"Running $atest...\"\n",
    "            time jupyter nbconvert --execute  --inplace  --ExecutePreprocessor.timeout=-1 \"$atest.out\"\n",
    "            echo \"   ...finished $atest.\"\n",
    "    else\n",
    "        echo \"Test $atest not found.\"\n",
    "    fi\n",
    "done"
   ]
  },
  {
   "cell_type": "markdown",
   "metadata": {},
   "source": [
    "## Generate summary:"
   ]
  },
  {
   "cell_type": "code",
   "execution_count": null,
   "metadata": {
    "collapsed": false
   },
   "outputs": [],
   "source": [
    "for atest in \"${test_items[@]}\"; do\n",
    "    if [ -f \"$atest.out\" ] ; then\n",
    "       if jq '(.cells[].outputs)' \"$atest.out\" | grep -qF '[[FAILED]]' ; then\n",
    "          printf \"Test %-15s failed.\" \"$atest\"\n",
    "       else\n",
    "          printf \"Test %-15s passed.\" \"$atest\"\n",
    "       fi\n",
    "    else\n",
    "        printf \"Test %-15s did not return results.\" \"$atest\"\n",
    "    fi\n",
    "done | tee ~/test-summary.txt"
   ]
  },
  {
   "cell_type": "markdown",
   "metadata": {},
   "source": [
    "## Send summary email:"
   ]
  },
  {
   "cell_type": "code",
   "execution_count": null,
   "metadata": {
    "collapsed": false
   },
   "outputs": [],
   "source": [
    "source ~/jh_test.config\n",
    "mail -s \"Test Summary\" \"$ADMIN_MAIL\" <~/test-summary.txt"
   ]
  }
 ],
 "metadata": {
  "kernelspec": {
   "display_name": "Bash",
   "language": "bash",
   "name": "bash"
  },
  "language_info": {
   "codemirror_mode": "shell",
   "file_extension": ".sh",
   "mimetype": "text/x-sh",
   "name": "bash"
  }
 },
 "nbformat": 4,
 "nbformat_minor": 2
}
