{
 "cells": [
  {
   "cell_type": "markdown",
   "metadata": {},
   "source": [
    "## Edit the bash array in the next cell and run it to choose which notebook-based tests to run:"
   ]
  },
  {
   "cell_type": "code",
   "execution_count": null,
   "metadata": {
    "collapsed": true
   },
   "outputs": [],
   "source": [
    "test_items=(\n",
    "    ci-check.ipynb\n",
    ")"
   ]
  },
  {
   "cell_type": "markdown",
   "metadata": {},
   "source": [
    "## Run next cell to run each test off-screen:"
   ]
  },
  {
   "cell_type": "code",
   "execution_count": null,
   "metadata": {
    "collapsed": false
   },
   "outputs": [],
   "source": [
    "for atest in \"${test_items[@]}\"; do\n",
    "    if [ -f \"$atest\" ] && \\\n",
    "        rm -f \"$atest.tmp\" && \\\n",
    "        cp \"$atest\" \"$atest.tmp\" ; then\n",
    "            echo \"Running $i...\"\n",
    "            time jupyter nbconvert --execute  --inplace  --ExecutePreprocessor.timeout=-1 \"$atest.tmp\"\n",
    "            echo \"   ...finished $i.\"\n",
    "    else\n",
    "        echo \"Test $atest not found.\"\n",
    "    fi\n",
    "done"
   ]
  },
  {
   "cell_type": "markdown",
   "metadata": {},
   "source": [
    "## Run the next cell to test out jq!!"
   ]
  },
  {
   "cell_type": "code",
   "execution_count": null,
   "metadata": {
    "collapsed": false
   },
   "outputs": [],
   "source": [
    "for atest in \"${test_items[@]}\"; do\n",
    "    if [ -f \"$atest.tmp\" ] ; then\n",
    "       jq '(.cells[].outputs)' \"$atest.tmp\"\n",
    "       jq '(.cells[].outputs)' \"$atest.tmp\" | grep -qF '[[FAILED]]' && echo \"something failed!!\"\n",
    "    else\n",
    "        echo \"Result for test $atest not found.\"\n",
    "    fi\n",
    "done"
   ]
  },
  {
   "cell_type": "code",
   "execution_count": null,
   "metadata": {
    "collapsed": true
   },
   "outputs": [],
   "source": []
  }
 ],
 "metadata": {
  "kernelspec": {
   "display_name": "Bash",
   "language": "bash",
   "name": "bash"
  },
  "language_info": {
   "codemirror_mode": "shell",
   "file_extension": ".sh",
   "mimetype": "text/x-sh",
   "name": "bash"
  }
 },
 "nbformat": 4,
 "nbformat_minor": 2
}
