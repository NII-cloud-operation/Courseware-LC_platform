{
 "cells": [
  {
   "cell_type": "markdown",
   "metadata": {},
   "source": [
    "## Read in config file and do basic checks:"
   ]
  },
  {
   "cell_type": "code",
   "execution_count": null,
   "metadata": {
    "collapsed": false
   },
   "outputs": [],
   "source": [
    "report_problem()\n",
    "{\n",
    "    date | tee -a /tmp/debuglog\n",
    "    echo \"[[FAILED]] $*\" | tee -a /tmp/debuglog\n",
    "    exit 1 # exit the bash kernel (which does not exit nbconvert :-( ))\n",
    "}\n",
    "\n",
    "source ~/jh_test.config || report_problem \"problem reading config file\"\n",
    "\n",
    "check_ssh()\n",
    "{\n",
    "    [ \"$(echo $SSHCMD)\" != \"\" ] || report_problem \"SSHCMD is not set\"\n",
    "    [ \"$($SSHCMD echo OK)\" = \"OK\" ] || report_problem \"SSHCMD ($SSHCMD) did not connect successfully\"\n",
    "}\n",
    "\n",
    "check_targetdir()\n",
    "{\n",
    "    $SSHCMD \"[ -d '$TARGETDIR' ]\" || report_problem \"The directory ($TARGETDIR) does not exist on the server\"\n",
    "}\n",
    "\n",
    "check_bridge()\n",
    "{\n",
    "    [ \"$(echo $BRIDGENAME)\" != \"\" ] || report_problem \"BRIDGENAME is not set\"\n",
    "    [[ \"$($SSHCMD /sbin/brctl show \"$BRIDGENAME\" 2>&1 1>/dev/null)\" == \"\" ]] || report_problem \"bridge ($BRIDGENAME) not found\"\n",
    "}\n",
    "\n",
    "check_ssh\n",
    "check_targetdir\n",
    "check_bridge\n",
    "echo \"Config checks OK\""
   ]
  },
  {
   "cell_type": "markdown",
   "metadata": {},
   "source": [
    "## Run the next cell to test if build has been completed:\n",
    "It should take about 20 seconds to run."
   ]
  },
  {
   "cell_type": "code",
   "execution_count": null,
   "metadata": {
    "collapsed": false,
    "scrolled": true
   },
   "outputs": [],
   "source": [
    "echo \"Checking if all build steps have been done...\"\n",
    "$SSHCMD <<<\"set -- $TARGETDIR/installdir/toplevel-kvm-tap-build.sh check ; $(cat .utilities/bashsteps-check-next-step-to-do.sh)\"\n",
    "[ \"$?\" = 0 ] && echo \"[[FAILED]] Some build steps still need to be done.\" || echo \"All steps have been done.  The build has been completed.\""
   ]
  },
  {
   "cell_type": "markdown",
   "metadata": {},
   "source": [
    "## Run the next cell to test if all private network addresses work:"
   ]
  },
  {
   "cell_type": "code",
   "execution_count": null,
   "metadata": {
    "collapsed": false
   },
   "outputs": [],
   "source": [
    "allip=\"$($SSHCMD <<<'for ddc in \"'$TARGETDIR'/installdir/jhvmdir\"*/datadir.conf; do ( source $ddc; echo \"$VMIP\") ; done')\"\n",
    "allok=true\n",
    "for ip in $allip ; do\n",
    "    $SSHCMD \"$TARGETDIR/installdir/jhvmdir/ssh-shortcut.sh\" -q ping -qc 1 $ip || {\n",
    "       echo \"[[FAILED]] No connection to $ip\"\n",
    "       allok=false\n",
    "    }\n",
    "    echo\n",
    "done\n",
    "$allok && echo \"All private network addresses work.\""
   ]
  },
  {
   "cell_type": "markdown",
   "metadata": {},
   "source": [
    "## Run the next cell to test the connection to the login screen:"
   ]
  },
  {
   "cell_type": "code",
   "execution_count": null,
   "metadata": {
    "collapsed": false
   },
   "outputs": [],
   "source": [
    "hubport=\"$($SSHCMD <<<'source \"'$TARGETDIR'/installdir/jhvmdir-hub/datadir.conf\"; echo \"$VNCPORT\"')\"\n",
    "hubip=\"${SSHCMD#*@}\"\n",
    "hubip=\"${hubip%% *}\"\n",
    "echo \"Testing connection at $hubip:$(( hubport + 90 ))\"\n",
    "curl --max-time 5 -k https://$hubip:$(( hubport + 90 ))/php/login.php 2>/dev/null | grep -q 'Sign In'\n",
    "echo -n \"Connection to login page \"\n",
    "[ \"$?\" = 0 ] && echo \"succeeded.\" || echo \"[[FAILED]].\""
   ]
  }
 ],
 "metadata": {
  "kernelspec": {
   "display_name": "Bash",
   "language": "bash",
   "name": "bash"
  },
  "language_info": {
   "codemirror_mode": "shell",
   "file_extension": ".sh",
   "mimetype": "text/x-sh",
   "name": "bash"
  }
 },
 "nbformat": 4,
 "nbformat_minor": 2
}
