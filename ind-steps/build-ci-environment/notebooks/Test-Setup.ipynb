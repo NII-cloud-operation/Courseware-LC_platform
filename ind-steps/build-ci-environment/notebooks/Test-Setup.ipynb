{
 "cells": [
  {
   "cell_type": "markdown",
   "metadata": {},
   "source": [
    "## Run this cell and copy the output into a shell terminal on the target server.  It will append an ssh public key the authorized_keys file for the user of that shell terminal:"
   ]
  },
  {
   "cell_type": "code",
   "execution_count": null,
   "metadata": {
    "collapsed": false
   },
   "outputs": [],
   "source": [
    "echo \"cat >>~/.ssh/authorized_keys <<EOF\"\n",
    "cat ~/.ssh/id_rsa.pub\n",
    "echo \"EOF\""
   ]
  },
  {
   "cell_type": "markdown",
   "metadata": {},
   "source": [
    "## Edit the ssh command in the following cell so that it will log into the target host:"
   ]
  },
  {
   "cell_type": "code",
   "execution_count": null,
   "metadata": {
    "collapsed": true
   },
   "outputs": [],
   "source": [
    "extra=\"-q -o StrictHostKeyChecking=no -o UserKnownHostsFile=/dev/null\"\n",
    "SSHCMD=\"ssh edit-this@10.0.3.2 $extra\""
   ]
  },
  {
   "cell_type": "markdown",
   "metadata": {},
   "source": [
    "## Run this cell to test that the key was successfully appended ssh information is correct:"
   ]
  },
  {
   "cell_type": "code",
   "execution_count": null,
   "metadata": {
    "collapsed": false
   },
   "outputs": [],
   "source": [
    "$SSHCMD hostname || echo \"ssh is not set up correctly\""
   ]
  },
  {
   "cell_type": "markdown",
   "metadata": {},
   "source": [
    "## Edit the target directory on the target Server\n",
    "All files for the build will go in this directory.  The repository will be copied to \\$TARGETDIR/jupyter-platform-dev/.\n",
    "The actual build directory will be at \\$TARGETDIR/installdir/."
   ]
  },
  {
   "cell_type": "code",
   "execution_count": null,
   "metadata": {
    "collapsed": true
   },
   "outputs": [],
   "source": [
    "TARGETDIR=/edit/this/path"
   ]
  },
  {
   "cell_type": "markdown",
   "metadata": {},
   "source": [
    "## Edit to give the name of the bridge to which tap devices should be attached."
   ]
  },
  {
   "cell_type": "code",
   "execution_count": null,
   "metadata": {
    "collapsed": true
   },
   "outputs": [],
   "source": [
    "BRIDGENAME='test-br0'"
   ]
  },
  {
   "cell_type": "markdown",
   "metadata": {},
   "source": [
    "## Run the next cell to write out the above information to a config file."
   ]
  },
  {
   "cell_type": "code",
   "execution_count": null,
   "metadata": {
    "collapsed": false
   },
   "outputs": [],
   "source": [
    "report_problem()\n",
    "{\n",
    "    echo \"$*\"\n",
    "    exit 1 # exit the subshell below\n",
    "}\n",
    "\n",
    "check_ssh()\n",
    "{\n",
    "    [ \"$(echo $SSHCMD)\" != \"\" ] || report_problem \"SSHCMD is not set\"\n",
    "    [ \"$($SSHCMD echo OK)\" = \"OK\" ] || report_problem \"SSHCMD ($SSHCMD) did not connect successfully\"\n",
    "}\n",
    "\n",
    "check_targetdir()\n",
    "{\n",
    "    $SSHCMD \"[ -d '$TARGETDIR' ]\" || report_problem \"The directory ($TARGETDIR) does not exist on the server\"\n",
    "}\n",
    "\n",
    "check_bridge()\n",
    "{\n",
    "    [ \"$(echo $BRIDGENAME)\" != \"\" ] || report_problem \"BRIDGENAME is not set\"\n",
    "    [[ \"$($SSHCMD /sbin/brctl show \"$BRIDGENAME\" 2>&1 1>/dev/null)\" == \"\" ]] || report_problem \"bridge ($BRIDGENAME) not found\"\n",
    "}\n",
    "\n",
    "( # subprocess so error code will not exit jupyter's bash kernel\n",
    "    check_ssh\n",
    "    check_targetdir\n",
    "    check_bridge\n",
    "    set -e\n",
    "    cat >~/jh_test.config <<EOF\n",
    "SSHCMD=\"$SSHCMD\"\n",
    "TARGETDIR=\"$TARGETDIR\"\n",
    "BRIDGENAME=\"$BRIDGENAME\"\n",
    "EOF\n",
    "    echo \"Config created successfully\"\n",
    ")"
   ]
  }
 ],
 "metadata": {
  "kernelspec": {
   "display_name": "Bash",
   "language": "bash",
   "name": "bash"
  },
  "language_info": {
   "codemirror_mode": "shell",
   "file_extension": ".sh",
   "mimetype": "text/x-sh",
   "name": "bash"
  }
 },
 "nbformat": 4,
 "nbformat_minor": 2
}
